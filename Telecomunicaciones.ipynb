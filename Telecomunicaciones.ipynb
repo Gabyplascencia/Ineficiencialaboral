{
 "cells": [
  {
   "cell_type": "markdown",
   "metadata": {},
   "source": [
    "# Proyecto Final"
   ]
  },
  {
   "cell_type": "markdown",
   "metadata": {},
   "source": [
    "# Telecomunicaciones: identificar operadores ineficaces"
   ]
  },
  {
   "cell_type": "markdown",
   "metadata": {},
   "source": [
    "El servicio de telefonía virtual CallMeMaybe está desarrollando una nueva función que brindará a los supervisores y las supervisores información sobre los operadores menos eficaces. \n",
    "\n",
    "Se considera que un operador es ineficaz si tiene una gran cantidad de llamadas entrantes perdidas (internas y externas) y un tiempo de espera prolongado para las llamadas entrantes. Además, si se supone que un operador debe realizar llamadas salientes, un número reducido de ellas también será un signo de ineficacia."
   ]
  },
  {
   "cell_type": "markdown",
   "metadata": {},
   "source": [
    "**Link de acceso a la presentación final del proyecto:**\n",
    "\n",
    "https://docs.google.com/presentation/d/10es2XvIxAMhJki0Zh1M9CDg4Hoh1W3l9UMdkfeTz7EQ/edit?usp=sharing"
   ]
  },
  {
   "cell_type": "markdown",
   "metadata": {},
   "source": [
    "**Link de acceso al documento Tableau del proyecto**\n",
    "\n",
    "https://public.tableau.com/app/profile/gabriela.rivera6016/viz/Rendimientodeoperadores/Dashboard1?publish=yes"
   ]
  },
  {
   "cell_type": "markdown",
   "metadata": {},
   "source": [
    "# Descripción de los datos"
   ]
  },
  {
   "cell_type": "markdown",
   "metadata": {},
   "source": [
    "Los datasets contienen información sobre el uso del servicio de telefonía virtual CallMeMaybe. \n",
    "\n",
    "Sus clientes son organizaciones que necesitan distribuir gran cantidad de llamadas entrantes entre varios operadores, o realizar llamadas salientes a través de sus operadores. \n",
    "\n",
    "Los operadores también pueden realizar llamadas internas para comunicarse entre ellos. Estas llamadas se realizan a través de la red de CallMeMaybe.\n",
    "\n",
    "El dataset comprimido `telecom_dataset_us.csv` contiene las siguientes columnas:\n",
    "\n",
    "- `user_id`: ID de la cuenta de cliente\n",
    "- `date`: fecha en la que se recuperaron las estadísticas\n",
    "- `direction`: \"dirección\" de llamada (`out` para saliente, `in` para entrante)\n",
    "- `internal`: si la llamada fue interna (entre los operadores de un cliente o clienta)\n",
    "- `operator_id`: identificador del operador\n",
    "- `is_missed_call`: si fue una llamada perdida\n",
    "- `calls_count`: número de llamadas\n",
    "- `call_duration`: duración de la llamada (sin incluir el tiempo de espera)\n",
    "- `total_call_duration`: duración de la llamada (incluido el tiempo de espera)\n",
    "\n",
    " \n",
    "\n",
    "El conjunto de datos `telecom_clients_us.csv` tiene las siguientes columnas:\n",
    "\n",
    "- `user_id`: ID de usuario/a\n",
    "- `tariff_plan`: tarifa actual de la clientela\n",
    "- `date_start`: fecha de registro de la clientela"
   ]
  },
  {
   "cell_type": "markdown",
   "metadata": {},
   "source": [
    "# Descarga de los datos"
   ]
  },
  {
   "cell_type": "code",
   "execution_count": 1,
   "metadata": {},
   "outputs": [],
   "source": [
    "#cargar las librerias necesarias\n",
    "import pandas as pd\n",
    "import numpy as np\n",
    "import seaborn as sns\n",
    "from matplotlib import pyplot as plt\n",
    "from scipy import stats"
   ]
  },
  {
   "cell_type": "code",
   "execution_count": 2,
   "metadata": {},
   "outputs": [],
   "source": [
    "#cargar los archivos del primer data\n",
    "data= pd.read_csv(\"/datasets/telecom_dataset_us.csv\")\n",
    "clients= pd.read_csv(\"/datasets/telecom_clients_us.csv\")"
   ]
  },
  {
   "cell_type": "code",
   "execution_count": 3,
   "metadata": {},
   "outputs": [
    {
     "name": "stdout",
     "output_type": "stream",
     "text": [
      "<class 'pandas.core.frame.DataFrame'>\n",
      "RangeIndex: 53902 entries, 0 to 53901\n",
      "Data columns (total 9 columns):\n",
      " #   Column               Non-Null Count  Dtype  \n",
      "---  ------               --------------  -----  \n",
      " 0   user_id              53902 non-null  int64  \n",
      " 1   date                 53902 non-null  object \n",
      " 2   direction            53902 non-null  object \n",
      " 3   internal             53785 non-null  object \n",
      " 4   operator_id          45730 non-null  float64\n",
      " 5   is_missed_call       53902 non-null  bool   \n",
      " 6   calls_count          53902 non-null  int64  \n",
      " 7   call_duration        53902 non-null  int64  \n",
      " 8   total_call_duration  53902 non-null  int64  \n",
      "dtypes: bool(1), float64(1), int64(4), object(3)\n",
      "memory usage: 3.3+ MB\n"
     ]
    }
   ],
   "source": [
    "#manda a llamar info para conocer el tipo de datos que tenemos y analizar si debemos cambiar el tipo de datos\n",
    "data.info()"
   ]
  },
  {
   "cell_type": "code",
   "execution_count": 4,
   "metadata": {},
   "outputs": [
    {
     "data": {
      "text/html": [
       "<div>\n",
       "<style scoped>\n",
       "    .dataframe tbody tr th:only-of-type {\n",
       "        vertical-align: middle;\n",
       "    }\n",
       "\n",
       "    .dataframe tbody tr th {\n",
       "        vertical-align: top;\n",
       "    }\n",
       "\n",
       "    .dataframe thead th {\n",
       "        text-align: right;\n",
       "    }\n",
       "</style>\n",
       "<table border=\"1\" class=\"dataframe\">\n",
       "  <thead>\n",
       "    <tr style=\"text-align: right;\">\n",
       "      <th></th>\n",
       "      <th>user_id</th>\n",
       "      <th>date</th>\n",
       "      <th>direction</th>\n",
       "      <th>internal</th>\n",
       "      <th>operator_id</th>\n",
       "      <th>is_missed_call</th>\n",
       "      <th>calls_count</th>\n",
       "      <th>call_duration</th>\n",
       "      <th>total_call_duration</th>\n",
       "    </tr>\n",
       "  </thead>\n",
       "  <tbody>\n",
       "    <tr>\n",
       "      <th>0</th>\n",
       "      <td>166377</td>\n",
       "      <td>2019-08-04 00:00:00+03:00</td>\n",
       "      <td>in</td>\n",
       "      <td>False</td>\n",
       "      <td>NaN</td>\n",
       "      <td>True</td>\n",
       "      <td>2</td>\n",
       "      <td>0</td>\n",
       "      <td>4</td>\n",
       "    </tr>\n",
       "    <tr>\n",
       "      <th>1</th>\n",
       "      <td>166377</td>\n",
       "      <td>2019-08-05 00:00:00+03:00</td>\n",
       "      <td>out</td>\n",
       "      <td>True</td>\n",
       "      <td>880022.0</td>\n",
       "      <td>True</td>\n",
       "      <td>3</td>\n",
       "      <td>0</td>\n",
       "      <td>5</td>\n",
       "    </tr>\n",
       "    <tr>\n",
       "      <th>2</th>\n",
       "      <td>166377</td>\n",
       "      <td>2019-08-05 00:00:00+03:00</td>\n",
       "      <td>out</td>\n",
       "      <td>True</td>\n",
       "      <td>880020.0</td>\n",
       "      <td>True</td>\n",
       "      <td>1</td>\n",
       "      <td>0</td>\n",
       "      <td>1</td>\n",
       "    </tr>\n",
       "    <tr>\n",
       "      <th>3</th>\n",
       "      <td>166377</td>\n",
       "      <td>2019-08-05 00:00:00+03:00</td>\n",
       "      <td>out</td>\n",
       "      <td>True</td>\n",
       "      <td>880020.0</td>\n",
       "      <td>False</td>\n",
       "      <td>1</td>\n",
       "      <td>10</td>\n",
       "      <td>18</td>\n",
       "    </tr>\n",
       "    <tr>\n",
       "      <th>4</th>\n",
       "      <td>166377</td>\n",
       "      <td>2019-08-05 00:00:00+03:00</td>\n",
       "      <td>out</td>\n",
       "      <td>False</td>\n",
       "      <td>880022.0</td>\n",
       "      <td>True</td>\n",
       "      <td>3</td>\n",
       "      <td>0</td>\n",
       "      <td>25</td>\n",
       "    </tr>\n",
       "  </tbody>\n",
       "</table>\n",
       "</div>"
      ],
      "text/plain": [
       "   user_id                       date direction internal  operator_id  \\\n",
       "0   166377  2019-08-04 00:00:00+03:00        in    False          NaN   \n",
       "1   166377  2019-08-05 00:00:00+03:00       out     True     880022.0   \n",
       "2   166377  2019-08-05 00:00:00+03:00       out     True     880020.0   \n",
       "3   166377  2019-08-05 00:00:00+03:00       out     True     880020.0   \n",
       "4   166377  2019-08-05 00:00:00+03:00       out    False     880022.0   \n",
       "\n",
       "   is_missed_call  calls_count  call_duration  total_call_duration  \n",
       "0            True            2              0                    4  \n",
       "1            True            3              0                    5  \n",
       "2            True            1              0                    1  \n",
       "3           False            1             10                   18  \n",
       "4            True            3              0                   25  "
      ]
     },
     "execution_count": 4,
     "metadata": {},
     "output_type": "execute_result"
    }
   ],
   "source": [
    "data.head()"
   ]
  },
  {
   "cell_type": "markdown",
   "metadata": {},
   "source": [
    "A primer vistazo rápido podemos observar valores ausentes en algunas de las columnas y conociendo los datos obtenidos, saber que nuestra columna de fecha no cuenta con el tipo de dato correcto, teniendo que ser corregido para su debido uso.\n",
    "\n",
    "Es necesario un análisis más profundo para corroborar el estado del data,  garantizar se encuentre en las mejores condiciones para su uso y análisis. El cual se hará en la siguiente sección."
   ]
  },
  {
   "cell_type": "code",
   "execution_count": 5,
   "metadata": {},
   "outputs": [
    {
     "name": "stdout",
     "output_type": "stream",
     "text": [
      "<class 'pandas.core.frame.DataFrame'>\n",
      "RangeIndex: 732 entries, 0 to 731\n",
      "Data columns (total 3 columns):\n",
      " #   Column       Non-Null Count  Dtype \n",
      "---  ------       --------------  ----- \n",
      " 0   user_id      732 non-null    int64 \n",
      " 1   tariff_plan  732 non-null    object\n",
      " 2   date_start   732 non-null    object\n",
      "dtypes: int64(1), object(2)\n",
      "memory usage: 17.3+ KB\n"
     ]
    }
   ],
   "source": [
    "#manda a llamar info para conocer el tipo de datos que tenemos y analizar si debemos cambiar el tipo de datos\n",
    "clients.info()"
   ]
  },
  {
   "cell_type": "code",
   "execution_count": 6,
   "metadata": {},
   "outputs": [
    {
     "data": {
      "text/html": [
       "<div>\n",
       "<style scoped>\n",
       "    .dataframe tbody tr th:only-of-type {\n",
       "        vertical-align: middle;\n",
       "    }\n",
       "\n",
       "    .dataframe tbody tr th {\n",
       "        vertical-align: top;\n",
       "    }\n",
       "\n",
       "    .dataframe thead th {\n",
       "        text-align: right;\n",
       "    }\n",
       "</style>\n",
       "<table border=\"1\" class=\"dataframe\">\n",
       "  <thead>\n",
       "    <tr style=\"text-align: right;\">\n",
       "      <th></th>\n",
       "      <th>user_id</th>\n",
       "      <th>tariff_plan</th>\n",
       "      <th>date_start</th>\n",
       "    </tr>\n",
       "  </thead>\n",
       "  <tbody>\n",
       "    <tr>\n",
       "      <th>0</th>\n",
       "      <td>166713</td>\n",
       "      <td>A</td>\n",
       "      <td>2019-08-15</td>\n",
       "    </tr>\n",
       "    <tr>\n",
       "      <th>1</th>\n",
       "      <td>166901</td>\n",
       "      <td>A</td>\n",
       "      <td>2019-08-23</td>\n",
       "    </tr>\n",
       "    <tr>\n",
       "      <th>2</th>\n",
       "      <td>168527</td>\n",
       "      <td>A</td>\n",
       "      <td>2019-10-29</td>\n",
       "    </tr>\n",
       "    <tr>\n",
       "      <th>3</th>\n",
       "      <td>167097</td>\n",
       "      <td>A</td>\n",
       "      <td>2019-09-01</td>\n",
       "    </tr>\n",
       "    <tr>\n",
       "      <th>4</th>\n",
       "      <td>168193</td>\n",
       "      <td>A</td>\n",
       "      <td>2019-10-16</td>\n",
       "    </tr>\n",
       "  </tbody>\n",
       "</table>\n",
       "</div>"
      ],
      "text/plain": [
       "   user_id tariff_plan  date_start\n",
       "0   166713           A  2019-08-15\n",
       "1   166901           A  2019-08-23\n",
       "2   168527           A  2019-10-29\n",
       "3   167097           A  2019-09-01\n",
       "4   168193           A  2019-10-16"
      ]
     },
     "execution_count": 6,
     "metadata": {},
     "output_type": "execute_result"
    }
   ],
   "source": [
    "clients.head()"
   ]
  },
  {
   "cell_type": "markdown",
   "metadata": {},
   "source": [
    "A primer vistazo rápido podemos observar que no existen valores ausentes en algunas de las columnas y conociendo los datos obtenidos, saber que nuestra columna de date_start no cuenta con el tipo de dato correcto, teniendo que ser corregido para su debido uso.\n",
    "\n",
    "Es necesario un análisis más profundo para corroborar el estado del data,  garantizar se encuentre en las mejores condiciones para su uso y análisis. El cual se hará en la siguiente sección."
   ]
  },
  {
   "cell_type": "markdown",
   "metadata": {},
   "source": [
    "# Análisis exploratorio de datos Data"
   ]
  },
  {
   "cell_type": "markdown",
   "metadata": {},
   "source": [
    "Para esta sección buscaremos la limpiea, corrección y mejora de ambos datas con el objetivo de otener la inormación en su mejor version y estar listos para poder analizar los datos obtenidos  dar respuesta a los problemas presentados por nuestra empresa y así garantizar datos correctos, certeros y lo más exactos posibles para nuestro beneficio."
   ]
  },
  {
   "cell_type": "code",
   "execution_count": 7,
   "metadata": {},
   "outputs": [
    {
     "name": "stdout",
     "output_type": "stream",
     "text": [
      "user_id                   0\n",
      "date                      0\n",
      "direction                 0\n",
      "internal                117\n",
      "operator_id            8172\n",
      "is_missed_call            0\n",
      "calls_count               0\n",
      "call_duration             0\n",
      "total_call_duration       0\n",
      "dtype: int64\n"
     ]
    }
   ],
   "source": [
    "#buscar valores ausentes\n",
    "print(data.isna().sum())"
   ]
  },
  {
   "cell_type": "markdown",
   "metadata": {},
   "source": [
    "Para nuestro data contamos con valores ausentes en 2 de nuestras columnas: Internal (que nos habla de si son llamadas dentro de la misma compañia)  y operador_id (que nos indica qu eoperador resalizo la llamada).\n",
    "La falta de un 15% de los datos del id del operador, esta es una gran cantidad de datos y sustituirlos podrían tener consecuencias a nuestra información.\n",
    "Lo mejor será eliminar estas filas ya que estamos evaluando a los operadores y al no tener datos sobre quien realizó la llamada estos datos no servirán para nuestro análisis."
   ]
  },
  {
   "cell_type": "code",
   "execution_count": 8,
   "metadata": {},
   "outputs": [
    {
     "name": "stdout",
     "output_type": "stream",
     "text": [
      "4900\n"
     ]
    }
   ],
   "source": [
    "#buscar filas duplicadas\n",
    "print(data.duplicated().sum())"
   ]
  },
  {
   "cell_type": "code",
   "execution_count": 9,
   "metadata": {},
   "outputs": [],
   "source": [
    "#eliminar filas duplicadas\n",
    "data=data.drop_duplicates()"
   ]
  },
  {
   "cell_type": "markdown",
   "metadata": {},
   "source": [
    "Contamos con un total de 4900 filas duplicadas, las cuales equivalen al 9.09% del total de nuestros 53901 datos en este data. Estas deberán de ser eliminadas, ya que alterará tener datos duplicados de nuestros clientes que sesgarán nuestros objetivos."
   ]
  },
  {
   "cell_type": "code",
   "execution_count": 10,
   "metadata": {},
   "outputs": [
    {
     "name": "stdout",
     "output_type": "stream",
     "text": [
      "0\n"
     ]
    }
   ],
   "source": [
    "#verificar no queden filas duplicadas\n",
    "print(data.duplicated().sum())"
   ]
  },
  {
   "cell_type": "code",
   "execution_count": 11,
   "metadata": {},
   "outputs": [],
   "source": [
    "#cambio de tipo de dato para convertir a tipo fecha\n",
    "data[\"date\"]=pd.to_datetime(data[\"date\"] , format=\"%Y-%m-%d\")"
   ]
  },
  {
   "cell_type": "markdown",
   "metadata": {},
   "source": [
    "# Análisis exploratorio de datos Clients"
   ]
  },
  {
   "cell_type": "code",
   "execution_count": 12,
   "metadata": {},
   "outputs": [
    {
     "name": "stdout",
     "output_type": "stream",
     "text": [
      "user_id        0\n",
      "tariff_plan    0\n",
      "date_start     0\n",
      "dtype: int64\n"
     ]
    }
   ],
   "source": [
    "#buscar valores ausentes\n",
    "print(clients.isna().sum())"
   ]
  },
  {
   "cell_type": "code",
   "execution_count": 13,
   "metadata": {},
   "outputs": [
    {
     "name": "stdout",
     "output_type": "stream",
     "text": [
      "0\n"
     ]
    }
   ],
   "source": [
    "#buscar filas duplicadas\n",
    "print(clients.duplicated().sum())"
   ]
  },
  {
   "cell_type": "code",
   "execution_count": 14,
   "metadata": {},
   "outputs": [],
   "source": [
    "#cambio de tipo de dato para convertir a tipo fecha\n",
    "clients[\"date_start\"]=pd.to_datetime(clients[\"date_start\"] , format=\"%Y-%m-%d\")"
   ]
  },
  {
   "cell_type": "code",
   "execution_count": 15,
   "metadata": {},
   "outputs": [
    {
     "name": "stdout",
     "output_type": "stream",
     "text": [
      "<class 'pandas.core.frame.DataFrame'>\n",
      "RangeIndex: 732 entries, 0 to 731\n",
      "Data columns (total 3 columns):\n",
      " #   Column       Non-Null Count  Dtype         \n",
      "---  ------       --------------  -----         \n",
      " 0   user_id      732 non-null    int64         \n",
      " 1   tariff_plan  732 non-null    object        \n",
      " 2   date_start   732 non-null    datetime64[ns]\n",
      "dtypes: datetime64[ns](1), int64(1), object(1)\n",
      "memory usage: 17.3+ KB\n"
     ]
    }
   ],
   "source": [
    "#vuelve a llamar info para corroborar el cambio a fecha\n",
    "clients.info()"
   ]
  },
  {
   "cell_type": "markdown",
   "metadata": {},
   "source": [
    "Para nuestro data \"clients\" podemos observar que no ha sido necesrio una mejora más haya del cambio de tipo a fecha, para una mejor exploración en el uso de los datos. \n",
    "\n",
    "Obrvando la ausencia de anomalías con este data, no mostrando en general valores ausentes, ni filas duplicadass. \n",
    "\n",
    "Confirmando tener en las mejores condiciones del data para inciar con su uso."
   ]
  },
  {
   "cell_type": "markdown",
   "metadata": {},
   "source": [
    "# Estudio de la eficiencia de los operadores"
   ]
  },
  {
   "cell_type": "markdown",
   "metadata": {},
   "source": [
    "Como ya hemos comentando al inicio en esta ocasion, los supervisores estan en busqueda de los operaodres de nuestra empresa que no estan realizando un trabajo con los resultados esperados.\n",
    "\n",
    "Para esta sección analizaremos las duraciones de las llamadas promedio de llamadas al día y otras carácteristicas que nos guién sobre encontrar aquellos operadores que no están dentro de rangos y analizar su trabajo para encontrar si estos operadores con anomalias pueden ser considerados ineficientes y los supervidores así puedan tomar las debidas decisiones para mejorar a sus equipos.\n",
    "\n",
    "Todo este analisis se hace con la finalidad de exponer los resultados sobre las llamadas y trabajo realizado por los operadores y conocer sus números para las tomas de decisiones siguientes."
   ]
  },
  {
   "cell_type": "code",
   "execution_count": 16,
   "metadata": {},
   "outputs": [
    {
     "name": "stdout",
     "output_type": "stream",
     "text": [
      "count     49002.000000\n",
      "mean        866.282091\n",
      "std        3775.503352\n",
      "min           0.000000\n",
      "25%           0.000000\n",
      "50%          37.000000\n",
      "75%         570.000000\n",
      "max      144395.000000\n",
      "Name: call_duration, dtype: float64\n"
     ]
    }
   ],
   "source": [
    "#describe para concocer los promedios de nuestra columna\n",
    "print(data[\"call_duration\"].describe())"
   ]
  },
  {
   "cell_type": "code",
   "execution_count": 17,
   "metadata": {},
   "outputs": [
    {
     "data": {
      "image/png": "[encoded data removed]",
      "text/plain": [
       "<Figure size 640x480 with 1 Axes>"
      ]
     },
     "metadata": {},
     "output_type": "display_data"
    }
   ],
   "source": [
    "#Traza un histograma para la duración de la llamada\n",
    "plt.hist(data['call_duration'], bins=10, color=\"hotpink\")\n",
    "plt.title('Duración de las llamadas entre los operadores')\n",
    "plt.xlabel('Duración de las llamadas en minutos')\n",
    "\n",
    "plt.show()"
   ]
  },
  {
   "cell_type": "markdown",
   "metadata": {},
   "source": [
    "Estos datos nos indican que las llamadas más cortas en realidad son llamadas en 0 (dutando menos de minuto) y la llamada más larga registrada es de 14 4395.\n",
    "\n",
    "La mayor catidad de nuestras llamadas se encuentran entre el rango de 0 a menos de 2000, siendo valores muy raros las llamadas que pasen de 2000 minutos."
   ]
  },
  {
   "cell_type": "code",
   "execution_count": 18,
   "metadata": {},
   "outputs": [],
   "source": [
    "#nueva columna para calcular el tiempo de espera de las llamadas\n",
    "data[\"waiting_time\"]=data[\"total_call_duration\"]- data[\"call_duration\"]"
   ]
  },
  {
   "cell_type": "code",
   "execution_count": 19,
   "metadata": {},
   "outputs": [
    {
     "name": "stdout",
     "output_type": "stream",
     "text": [
      "count    49002.000000\n",
      "mean       290.276111\n",
      "std       1132.155291\n",
      "min          0.000000\n",
      "25%         17.000000\n",
      "50%         55.000000\n",
      "75%        200.000000\n",
      "max      46474.000000\n",
      "Name: waiting_time, dtype: float64\n"
     ]
    }
   ],
   "source": [
    "#describe para concocer los promedios de nuestra caolumna\n",
    "print(data[\"waiting_time\"].describe())"
   ]
  },
  {
   "cell_type": "markdown",
   "metadata": {},
   "source": [
    "Un punto a considerar en la ineficiencia de los operadores es el tiempo de espera. Ahora conocemos que un promedio de tiempo de espera es de 312 minutos.\n",
    "\n",
    "Al no especificarnos valores a considerar, utilizaremos este valor para considerar un punto de ineficiencia aquellos operadores que superen los 312, si este filtro junto con las llamas pérdidas y y las llamadas salientes crearaán nuestra lista de operadores que no está llegando a las metas de productividad para la empresa."
   ]
  },
  {
   "cell_type": "code",
   "execution_count": 20,
   "metadata": {},
   "outputs": [
    {
     "data": {
      "image/png": "[encoded data removed]",
      "text/plain": [
       "<Figure size 640x480 with 1 Axes>"
      ]
     },
     "metadata": {},
     "output_type": "display_data"
    }
   ],
   "source": [
    "data[\"calls_count\"].hist(bins=5, color=\"purple\") \n",
    "plt.title(\"Tiempos de espera llamadas de los operadores\")\n",
    "plt.show()"
   ]
  },
  {
   "cell_type": "code",
   "execution_count": 21,
   "metadata": {},
   "outputs": [
    {
     "name": "stdout",
     "output_type": "stream",
     "text": [
      "count    49002.000000\n",
      "mean        16.462777\n",
      "std         63.604098\n",
      "min          1.000000\n",
      "25%          1.000000\n",
      "50%          4.000000\n",
      "75%         12.000000\n",
      "max       4817.000000\n",
      "Name: calls_count, dtype: float64\n"
     ]
    }
   ],
   "source": [
    "#describe para concocer los promedios de nuestra caolumna\n",
    "print(data[\"calls_count\"].describe())"
   ]
  },
  {
   "cell_type": "code",
   "execution_count": 22,
   "metadata": {},
   "outputs": [
    {
     "data": {
      "image/png": "[encoded data removed]",
      "text/plain": [
       "<Figure size 800x800 with 1 Axes>"
      ]
     },
     "metadata": {},
     "output_type": "display_data"
    }
   ],
   "source": [
    "#Traza un gráfico circular que muestre la participación de las llamadas internas y externas\n",
    "\n",
    "llamadas_int = data['internal'].value_counts(dropna=False)\n",
    "labels = ['Externas', 'Internas', \"Unkwnow\"]\n",
    "plt.figure(figsize=(8, 8))\n",
    "plt.pie(llamadas_int, labels= labels)\n",
    "plt.title(\"Proporción de llamadas internas y externas de los operadores\")\n",
    "plt.show()"
   ]
  },
  {
   "cell_type": "markdown",
   "metadata": {},
   "source": [
    "Con este gráfico podemos conocer que el mayor porcentaje de llamdas que se realizan son de forma externa, a comparación de las llamadas internas hechas por el operador.\n",
    "\n",
    "El rango mostrado como Uknow se refiere a los datos ausentes que se nos presentaron en el data"
   ]
  },
  {
   "cell_type": "code",
   "execution_count": 23,
   "metadata": {},
   "outputs": [],
   "source": [
    "#Agrupar datos por operadores \n",
    "data_operadores= data.groupby('operator_id').agg(llamadas_totales=('calls_count', 'sum'),\n",
    "    llamadas_perdidas=('is_missed_call', 'sum'),\n",
    "    promedio_tiempo_espera=('total_call_duration', lambda x: (x - data['call_duration']).mean())).reset_index()"
   ]
  },
  {
   "cell_type": "markdown",
   "metadata": {},
   "source": [
    "Ahora ya tenemos agrupados el rendimiento de cada operador, concentrando su número de llamadas pérdidas, su tiempo promedio de espera y el total de llamadas realiadas, lo que facilitará la evaluación de los mismos."
   ]
  },
  {
   "cell_type": "code",
   "execution_count": 24,
   "metadata": {},
   "outputs": [],
   "source": [
    "#Crear una columna con el rango de llamadas perdidas por operador\n",
    "data_operadores['rango_llamadas_perdidas'] = data_operadores['llamadas_perdidas'] / data_operadores['llamadas_totales']"
   ]
  },
  {
   "cell_type": "code",
   "execution_count": 25,
   "metadata": {},
   "outputs": [
    {
     "data": {
      "text/html": [
       "<div>\n",
       "<style scoped>\n",
       "    .dataframe tbody tr th:only-of-type {\n",
       "        vertical-align: middle;\n",
       "    }\n",
       "\n",
       "    .dataframe tbody tr th {\n",
       "        vertical-align: top;\n",
       "    }\n",
       "\n",
       "    .dataframe thead th {\n",
       "        text-align: right;\n",
       "    }\n",
       "</style>\n",
       "<table border=\"1\" class=\"dataframe\">\n",
       "  <thead>\n",
       "    <tr style=\"text-align: right;\">\n",
       "      <th></th>\n",
       "      <th>operator_id</th>\n",
       "      <th>llamadas_totales</th>\n",
       "      <th>llamadas_perdidas</th>\n",
       "      <th>promedio_tiempo_espera</th>\n",
       "      <th>rango_llamadas_perdidas</th>\n",
       "    </tr>\n",
       "  </thead>\n",
       "  <tbody>\n",
       "    <tr>\n",
       "      <th>688</th>\n",
       "      <td>937716.0</td>\n",
       "      <td>1</td>\n",
       "      <td>1</td>\n",
       "      <td>19.0</td>\n",
       "      <td>1.0</td>\n",
       "    </tr>\n",
       "    <tr>\n",
       "      <th>617</th>\n",
       "      <td>932246.0</td>\n",
       "      <td>1</td>\n",
       "      <td>1</td>\n",
       "      <td>60.0</td>\n",
       "      <td>1.0</td>\n",
       "    </tr>\n",
       "    <tr>\n",
       "      <th>569</th>\n",
       "      <td>928282.0</td>\n",
       "      <td>2</td>\n",
       "      <td>2</td>\n",
       "      <td>8.0</td>\n",
       "      <td>1.0</td>\n",
       "    </tr>\n",
       "    <tr>\n",
       "      <th>253</th>\n",
       "      <td>905480.0</td>\n",
       "      <td>1</td>\n",
       "      <td>1</td>\n",
       "      <td>5.0</td>\n",
       "      <td>1.0</td>\n",
       "    </tr>\n",
       "    <tr>\n",
       "      <th>160</th>\n",
       "      <td>899076.0</td>\n",
       "      <td>2</td>\n",
       "      <td>2</td>\n",
       "      <td>23.5</td>\n",
       "      <td>1.0</td>\n",
       "    </tr>\n",
       "    <tr>\n",
       "      <th>27</th>\n",
       "      <td>885682.0</td>\n",
       "      <td>3</td>\n",
       "      <td>3</td>\n",
       "      <td>17.0</td>\n",
       "      <td>1.0</td>\n",
       "    </tr>\n",
       "    <tr>\n",
       "      <th>687</th>\n",
       "      <td>937710.0</td>\n",
       "      <td>1</td>\n",
       "      <td>1</td>\n",
       "      <td>15.0</td>\n",
       "      <td>1.0</td>\n",
       "    </tr>\n",
       "    <tr>\n",
       "      <th>970</th>\n",
       "      <td>954284.0</td>\n",
       "      <td>1</td>\n",
       "      <td>1</td>\n",
       "      <td>3.0</td>\n",
       "      <td>1.0</td>\n",
       "    </tr>\n",
       "    <tr>\n",
       "      <th>1011</th>\n",
       "      <td>958458.0</td>\n",
       "      <td>1</td>\n",
       "      <td>1</td>\n",
       "      <td>0.0</td>\n",
       "      <td>1.0</td>\n",
       "    </tr>\n",
       "    <tr>\n",
       "      <th>697</th>\n",
       "      <td>937770.0</td>\n",
       "      <td>1</td>\n",
       "      <td>1</td>\n",
       "      <td>37.0</td>\n",
       "      <td>1.0</td>\n",
       "    </tr>\n",
       "  </tbody>\n",
       "</table>\n",
       "</div>"
      ],
      "text/plain": [
       "      operator_id  llamadas_totales  llamadas_perdidas  \\\n",
       "688      937716.0                 1                  1   \n",
       "617      932246.0                 1                  1   \n",
       "569      928282.0                 2                  2   \n",
       "253      905480.0                 1                  1   \n",
       "160      899076.0                 2                  2   \n",
       "27       885682.0                 3                  3   \n",
       "687      937710.0                 1                  1   \n",
       "970      954284.0                 1                  1   \n",
       "1011     958458.0                 1                  1   \n",
       "697      937770.0                 1                  1   \n",
       "\n",
       "      promedio_tiempo_espera  rango_llamadas_perdidas  \n",
       "688                     19.0                      1.0  \n",
       "617                     60.0                      1.0  \n",
       "569                      8.0                      1.0  \n",
       "253                      5.0                      1.0  \n",
       "160                     23.5                      1.0  \n",
       "27                      17.0                      1.0  \n",
       "687                     15.0                      1.0  \n",
       "970                      3.0                      1.0  \n",
       "1011                     0.0                      1.0  \n",
       "697                     37.0                      1.0  "
      ]
     },
     "execution_count": 25,
     "metadata": {},
     "output_type": "execute_result"
    }
   ],
   "source": [
    "# Conocer los operadores con peores rangos de llamada\n",
    "data_operadores.sort_values(by='rango_llamadas_perdidas', ascending=False).head(10)"
   ]
  },
  {
   "cell_type": "markdown",
   "metadata": {},
   "source": [
    "Si solo consideramos la relacion de las llamadas pérdidas contra el número de llamadas totales estariamos evaluando los operadores \"nuevos\" ya que los peores ranqueados solo por este motivo son aquellos con muy pocas llamadas realizadas y el mismo nivel de llamadas pérdidas, los 5 mostrados no pueden ser considerados ineficientes ya que no tienen una gran cantidad de llamadas realizadas que nos ayuden a evaluar la productividad del trabajo.\n",
    "\n",
    "Investigar por qué estos operadores tienen tan pocas llamadas, ya sea ue sean nuevos, pocas llamadas, o si en realidad estan teniendo un bajo desempeño laboral. Es necesario evaluar otros posibles relaciones para saber si quien de los operadores NO esta dando los resultados esperados."
   ]
  },
  {
   "cell_type": "code",
   "execution_count": 26,
   "metadata": {},
   "outputs": [
    {
     "name": "stdout",
     "output_type": "stream",
     "text": [
      "count    49002.000000\n",
      "mean        16.462777\n",
      "std         63.604098\n",
      "min          1.000000\n",
      "25%          1.000000\n",
      "50%          4.000000\n",
      "75%         12.000000\n",
      "max       4817.000000\n",
      "Name: calls_count, dtype: float64\n"
     ]
    }
   ],
   "source": [
    "#describe para concocer los rangos de llamadas hechas para evaluar mejor a los operadores\n",
    "print(data[\"calls_count\"].describe())"
   ]
  },
  {
   "cell_type": "code",
   "execution_count": 27,
   "metadata": {},
   "outputs": [
    {
     "data": {
      "text/html": [
       "<div>\n",
       "<style scoped>\n",
       "    .dataframe tbody tr th:only-of-type {\n",
       "        vertical-align: middle;\n",
       "    }\n",
       "\n",
       "    .dataframe tbody tr th {\n",
       "        vertical-align: top;\n",
       "    }\n",
       "\n",
       "    .dataframe thead th {\n",
       "        text-align: right;\n",
       "    }\n",
       "</style>\n",
       "<table border=\"1\" class=\"dataframe\">\n",
       "  <thead>\n",
       "    <tr style=\"text-align: right;\">\n",
       "      <th></th>\n",
       "      <th>operator_id</th>\n",
       "      <th>llamadas_totales</th>\n",
       "      <th>llamadas_perdidas</th>\n",
       "      <th>promedio_tiempo_espera</th>\n",
       "      <th>rango_llamadas_perdidas</th>\n",
       "    </tr>\n",
       "  </thead>\n",
       "  <tbody>\n",
       "    <tr>\n",
       "      <th>0</th>\n",
       "      <td>879896.0</td>\n",
       "      <td>930</td>\n",
       "      <td>47</td>\n",
       "      <td>104.914530</td>\n",
       "      <td>0.050538</td>\n",
       "    </tr>\n",
       "    <tr>\n",
       "      <th>1</th>\n",
       "      <td>879898.0</td>\n",
       "      <td>7313</td>\n",
       "      <td>89</td>\n",
       "      <td>457.696035</td>\n",
       "      <td>0.012170</td>\n",
       "    </tr>\n",
       "    <tr>\n",
       "      <th>2</th>\n",
       "      <td>880020.0</td>\n",
       "      <td>45</td>\n",
       "      <td>6</td>\n",
       "      <td>14.000000</td>\n",
       "      <td>0.133333</td>\n",
       "    </tr>\n",
       "    <tr>\n",
       "      <th>3</th>\n",
       "      <td>880022.0</td>\n",
       "      <td>197</td>\n",
       "      <td>29</td>\n",
       "      <td>53.971429</td>\n",
       "      <td>0.147208</td>\n",
       "    </tr>\n",
       "    <tr>\n",
       "      <th>4</th>\n",
       "      <td>880026.0</td>\n",
       "      <td>2232</td>\n",
       "      <td>87</td>\n",
       "      <td>121.978022</td>\n",
       "      <td>0.038978</td>\n",
       "    </tr>\n",
       "    <tr>\n",
       "      <th>...</th>\n",
       "      <td>...</td>\n",
       "      <td>...</td>\n",
       "      <td>...</td>\n",
       "      <td>...</td>\n",
       "      <td>...</td>\n",
       "    </tr>\n",
       "    <tr>\n",
       "      <th>1079</th>\n",
       "      <td>970254.0</td>\n",
       "      <td>12</td>\n",
       "      <td>2</td>\n",
       "      <td>63.000000</td>\n",
       "      <td>0.166667</td>\n",
       "    </tr>\n",
       "    <tr>\n",
       "      <th>1084</th>\n",
       "      <td>971102.0</td>\n",
       "      <td>76</td>\n",
       "      <td>0</td>\n",
       "      <td>338.000000</td>\n",
       "      <td>0.000000</td>\n",
       "    </tr>\n",
       "    <tr>\n",
       "      <th>1087</th>\n",
       "      <td>972410.0</td>\n",
       "      <td>77</td>\n",
       "      <td>2</td>\n",
       "      <td>374.500000</td>\n",
       "      <td>0.025974</td>\n",
       "    </tr>\n",
       "    <tr>\n",
       "      <th>1088</th>\n",
       "      <td>972412.0</td>\n",
       "      <td>61</td>\n",
       "      <td>2</td>\n",
       "      <td>210.000000</td>\n",
       "      <td>0.032787</td>\n",
       "    </tr>\n",
       "    <tr>\n",
       "      <th>1089</th>\n",
       "      <td>972460.0</td>\n",
       "      <td>51</td>\n",
       "      <td>3</td>\n",
       "      <td>88.571429</td>\n",
       "      <td>0.058824</td>\n",
       "    </tr>\n",
       "  </tbody>\n",
       "</table>\n",
       "<p>794 rows × 5 columns</p>\n",
       "</div>"
      ],
      "text/plain": [
       "      operator_id  llamadas_totales  llamadas_perdidas  \\\n",
       "0        879896.0               930                 47   \n",
       "1        879898.0              7313                 89   \n",
       "2        880020.0                45                  6   \n",
       "3        880022.0               197                 29   \n",
       "4        880026.0              2232                 87   \n",
       "...           ...               ...                ...   \n",
       "1079     970254.0                12                  2   \n",
       "1084     971102.0                76                  0   \n",
       "1087     972410.0                77                  2   \n",
       "1088     972412.0                61                  2   \n",
       "1089     972460.0                51                  3   \n",
       "\n",
       "      promedio_tiempo_espera  rango_llamadas_perdidas  \n",
       "0                 104.914530                 0.050538  \n",
       "1                 457.696035                 0.012170  \n",
       "2                  14.000000                 0.133333  \n",
       "3                  53.971429                 0.147208  \n",
       "4                 121.978022                 0.038978  \n",
       "...                      ...                      ...  \n",
       "1079               63.000000                 0.166667  \n",
       "1084              338.000000                 0.000000  \n",
       "1087              374.500000                 0.025974  \n",
       "1088              210.000000                 0.032787  \n",
       "1089               88.571429                 0.058824  \n",
       "\n",
       "[794 rows x 5 columns]"
      ]
     },
     "execution_count": 27,
     "metadata": {},
     "output_type": "execute_result"
    }
   ],
   "source": [
    "#Filtrar lo operadores con al menos 12 llamadas(p75) para considerar operadores con tiempo y experiencia\n",
    "operadores_evaluar = data_operadores[data_operadores['llamadas_totales'] >= 12]\n",
    "operadores_evaluar"
   ]
  },
  {
   "cell_type": "code",
   "execution_count": 28,
   "metadata": {},
   "outputs": [
    {
     "data": {
      "text/html": [
       "<div>\n",
       "<style scoped>\n",
       "    .dataframe tbody tr th:only-of-type {\n",
       "        vertical-align: middle;\n",
       "    }\n",
       "\n",
       "    .dataframe tbody tr th {\n",
       "        vertical-align: top;\n",
       "    }\n",
       "\n",
       "    .dataframe thead th {\n",
       "        text-align: right;\n",
       "    }\n",
       "</style>\n",
       "<table border=\"1\" class=\"dataframe\">\n",
       "  <thead>\n",
       "    <tr style=\"text-align: right;\">\n",
       "      <th></th>\n",
       "      <th>user_id</th>\n",
       "      <th>date</th>\n",
       "      <th>direction</th>\n",
       "      <th>internal</th>\n",
       "      <th>operator_id</th>\n",
       "      <th>is_missed_call</th>\n",
       "      <th>calls_count</th>\n",
       "      <th>call_duration</th>\n",
       "      <th>total_call_duration</th>\n",
       "      <th>waiting_time</th>\n",
       "    </tr>\n",
       "  </thead>\n",
       "  <tbody>\n",
       "    <tr>\n",
       "      <th>1</th>\n",
       "      <td>166377</td>\n",
       "      <td>2019-08-05 00:00:00+03:00</td>\n",
       "      <td>out</td>\n",
       "      <td>True</td>\n",
       "      <td>880022.0</td>\n",
       "      <td>True</td>\n",
       "      <td>3</td>\n",
       "      <td>0</td>\n",
       "      <td>5</td>\n",
       "      <td>5</td>\n",
       "    </tr>\n",
       "    <tr>\n",
       "      <th>2</th>\n",
       "      <td>166377</td>\n",
       "      <td>2019-08-05 00:00:00+03:00</td>\n",
       "      <td>out</td>\n",
       "      <td>True</td>\n",
       "      <td>880020.0</td>\n",
       "      <td>True</td>\n",
       "      <td>1</td>\n",
       "      <td>0</td>\n",
       "      <td>1</td>\n",
       "      <td>1</td>\n",
       "    </tr>\n",
       "    <tr>\n",
       "      <th>3</th>\n",
       "      <td>166377</td>\n",
       "      <td>2019-08-05 00:00:00+03:00</td>\n",
       "      <td>out</td>\n",
       "      <td>True</td>\n",
       "      <td>880020.0</td>\n",
       "      <td>False</td>\n",
       "      <td>1</td>\n",
       "      <td>10</td>\n",
       "      <td>18</td>\n",
       "      <td>8</td>\n",
       "    </tr>\n",
       "    <tr>\n",
       "      <th>4</th>\n",
       "      <td>166377</td>\n",
       "      <td>2019-08-05 00:00:00+03:00</td>\n",
       "      <td>out</td>\n",
       "      <td>False</td>\n",
       "      <td>880022.0</td>\n",
       "      <td>True</td>\n",
       "      <td>3</td>\n",
       "      <td>0</td>\n",
       "      <td>25</td>\n",
       "      <td>25</td>\n",
       "    </tr>\n",
       "    <tr>\n",
       "      <th>5</th>\n",
       "      <td>166377</td>\n",
       "      <td>2019-08-05 00:00:00+03:00</td>\n",
       "      <td>out</td>\n",
       "      <td>False</td>\n",
       "      <td>880020.0</td>\n",
       "      <td>False</td>\n",
       "      <td>2</td>\n",
       "      <td>3</td>\n",
       "      <td>29</td>\n",
       "      <td>26</td>\n",
       "    </tr>\n",
       "    <tr>\n",
       "      <th>...</th>\n",
       "      <td>...</td>\n",
       "      <td>...</td>\n",
       "      <td>...</td>\n",
       "      <td>...</td>\n",
       "      <td>...</td>\n",
       "      <td>...</td>\n",
       "      <td>...</td>\n",
       "      <td>...</td>\n",
       "      <td>...</td>\n",
       "      <td>...</td>\n",
       "    </tr>\n",
       "    <tr>\n",
       "      <th>53895</th>\n",
       "      <td>168606</td>\n",
       "      <td>2019-11-09 00:00:00+03:00</td>\n",
       "      <td>out</td>\n",
       "      <td>False</td>\n",
       "      <td>957922.0</td>\n",
       "      <td>False</td>\n",
       "      <td>4</td>\n",
       "      <td>551</td>\n",
       "      <td>593</td>\n",
       "      <td>42</td>\n",
       "    </tr>\n",
       "    <tr>\n",
       "      <th>53896</th>\n",
       "      <td>168606</td>\n",
       "      <td>2019-11-10 00:00:00+03:00</td>\n",
       "      <td>out</td>\n",
       "      <td>True</td>\n",
       "      <td>957922.0</td>\n",
       "      <td>False</td>\n",
       "      <td>1</td>\n",
       "      <td>0</td>\n",
       "      <td>25</td>\n",
       "      <td>25</td>\n",
       "    </tr>\n",
       "    <tr>\n",
       "      <th>53897</th>\n",
       "      <td>168606</td>\n",
       "      <td>2019-11-10 00:00:00+03:00</td>\n",
       "      <td>out</td>\n",
       "      <td>True</td>\n",
       "      <td>957922.0</td>\n",
       "      <td>True</td>\n",
       "      <td>1</td>\n",
       "      <td>0</td>\n",
       "      <td>38</td>\n",
       "      <td>38</td>\n",
       "    </tr>\n",
       "    <tr>\n",
       "      <th>53898</th>\n",
       "      <td>168606</td>\n",
       "      <td>2019-11-11 00:00:00+03:00</td>\n",
       "      <td>out</td>\n",
       "      <td>True</td>\n",
       "      <td>957922.0</td>\n",
       "      <td>False</td>\n",
       "      <td>2</td>\n",
       "      <td>479</td>\n",
       "      <td>501</td>\n",
       "      <td>22</td>\n",
       "    </tr>\n",
       "    <tr>\n",
       "      <th>53899</th>\n",
       "      <td>168606</td>\n",
       "      <td>2019-11-15 00:00:00+03:00</td>\n",
       "      <td>out</td>\n",
       "      <td>True</td>\n",
       "      <td>957922.0</td>\n",
       "      <td>False</td>\n",
       "      <td>4</td>\n",
       "      <td>3130</td>\n",
       "      <td>3190</td>\n",
       "      <td>60</td>\n",
       "    </tr>\n",
       "  </tbody>\n",
       "</table>\n",
       "<p>28999 rows × 10 columns</p>\n",
       "</div>"
      ],
      "text/plain": [
       "       user_id                      date direction internal  operator_id  \\\n",
       "1       166377 2019-08-05 00:00:00+03:00       out     True     880022.0   \n",
       "2       166377 2019-08-05 00:00:00+03:00       out     True     880020.0   \n",
       "3       166377 2019-08-05 00:00:00+03:00       out     True     880020.0   \n",
       "4       166377 2019-08-05 00:00:00+03:00       out    False     880022.0   \n",
       "5       166377 2019-08-05 00:00:00+03:00       out    False     880020.0   \n",
       "...        ...                       ...       ...      ...          ...   \n",
       "53895   168606 2019-11-09 00:00:00+03:00       out    False     957922.0   \n",
       "53896   168606 2019-11-10 00:00:00+03:00       out     True     957922.0   \n",
       "53897   168606 2019-11-10 00:00:00+03:00       out     True     957922.0   \n",
       "53898   168606 2019-11-11 00:00:00+03:00       out     True     957922.0   \n",
       "53899   168606 2019-11-15 00:00:00+03:00       out     True     957922.0   \n",
       "\n",
       "       is_missed_call  calls_count  call_duration  total_call_duration  \\\n",
       "1                True            3              0                    5   \n",
       "2                True            1              0                    1   \n",
       "3               False            1             10                   18   \n",
       "4                True            3              0                   25   \n",
       "5               False            2              3                   29   \n",
       "...               ...          ...            ...                  ...   \n",
       "53895           False            4            551                  593   \n",
       "53896           False            1              0                   25   \n",
       "53897            True            1              0                   38   \n",
       "53898           False            2            479                  501   \n",
       "53899           False            4           3130                 3190   \n",
       "\n",
       "       waiting_time  \n",
       "1                 5  \n",
       "2                 1  \n",
       "3                 8  \n",
       "4                25  \n",
       "5                26  \n",
       "...             ...  \n",
       "53895            42  \n",
       "53896            25  \n",
       "53897            38  \n",
       "53898            22  \n",
       "53899            60  \n",
       "\n",
       "[28999 rows x 10 columns]"
      ]
     },
     "execution_count": 28,
     "metadata": {},
     "output_type": "execute_result"
    }
   ],
   "source": [
    "#Filtrar por llamadas de salida\n",
    "llamadas_salida = data[data['direction'] == 'out']\n",
    "llamadas_salida"
   ]
  },
  {
   "cell_type": "code",
   "execution_count": 29,
   "metadata": {},
   "outputs": [],
   "source": [
    "#Agrupar por operador y llamadas de salida\n",
    "operadores_llam_salida = llamadas_salida.groupby('operator_id').agg(\n",
    "    total_llamadas_salida=('calls_count', 'sum'),\n",
    "    total_llamadas_perdidas=('is_missed_call', 'sum')).reset_index()"
   ]
  },
  {
   "cell_type": "code",
   "execution_count": 30,
   "metadata": {},
   "outputs": [
    {
     "data": {
      "text/html": [
       "<div>\n",
       "<style scoped>\n",
       "    .dataframe tbody tr th:only-of-type {\n",
       "        vertical-align: middle;\n",
       "    }\n",
       "\n",
       "    .dataframe tbody tr th {\n",
       "        vertical-align: top;\n",
       "    }\n",
       "\n",
       "    .dataframe thead th {\n",
       "        text-align: right;\n",
       "    }\n",
       "</style>\n",
       "<table border=\"1\" class=\"dataframe\">\n",
       "  <thead>\n",
       "    <tr style=\"text-align: right;\">\n",
       "      <th></th>\n",
       "      <th>operator_id</th>\n",
       "      <th>total_llamadas_salida</th>\n",
       "      <th>total_llamadas_perdidas</th>\n",
       "      <th>llamadas_totales</th>\n",
       "      <th>llamadas_perdidas</th>\n",
       "      <th>promedio_tiempo_espera</th>\n",
       "      <th>rango_llamadas_perdidas</th>\n",
       "    </tr>\n",
       "  </thead>\n",
       "  <tbody>\n",
       "    <tr>\n",
       "      <th>0</th>\n",
       "      <td>879896.0</td>\n",
       "      <td>872</td>\n",
       "      <td>47</td>\n",
       "      <td>930</td>\n",
       "      <td>47</td>\n",
       "      <td>104.914530</td>\n",
       "      <td>0.050538</td>\n",
       "    </tr>\n",
       "    <tr>\n",
       "      <th>1</th>\n",
       "      <td>879898.0</td>\n",
       "      <td>7209</td>\n",
       "      <td>89</td>\n",
       "      <td>7313</td>\n",
       "      <td>89</td>\n",
       "      <td>457.696035</td>\n",
       "      <td>0.012170</td>\n",
       "    </tr>\n",
       "    <tr>\n",
       "      <th>2</th>\n",
       "      <td>880020.0</td>\n",
       "      <td>38</td>\n",
       "      <td>6</td>\n",
       "      <td>45</td>\n",
       "      <td>6</td>\n",
       "      <td>14.000000</td>\n",
       "      <td>0.133333</td>\n",
       "    </tr>\n",
       "    <tr>\n",
       "      <th>3</th>\n",
       "      <td>880022.0</td>\n",
       "      <td>189</td>\n",
       "      <td>29</td>\n",
       "      <td>197</td>\n",
       "      <td>29</td>\n",
       "      <td>53.971429</td>\n",
       "      <td>0.147208</td>\n",
       "    </tr>\n",
       "    <tr>\n",
       "      <th>4</th>\n",
       "      <td>880026.0</td>\n",
       "      <td>2208</td>\n",
       "      <td>87</td>\n",
       "      <td>2232</td>\n",
       "      <td>87</td>\n",
       "      <td>121.978022</td>\n",
       "      <td>0.038978</td>\n",
       "    </tr>\n",
       "    <tr>\n",
       "      <th>...</th>\n",
       "      <td>...</td>\n",
       "      <td>...</td>\n",
       "      <td>...</td>\n",
       "      <td>...</td>\n",
       "      <td>...</td>\n",
       "      <td>...</td>\n",
       "      <td>...</td>\n",
       "    </tr>\n",
       "    <tr>\n",
       "      <th>877</th>\n",
       "      <td>972408.0</td>\n",
       "      <td>6</td>\n",
       "      <td>1</td>\n",
       "      <td>6</td>\n",
       "      <td>1</td>\n",
       "      <td>22.500000</td>\n",
       "      <td>0.166667</td>\n",
       "    </tr>\n",
       "    <tr>\n",
       "      <th>878</th>\n",
       "      <td>972410.0</td>\n",
       "      <td>77</td>\n",
       "      <td>2</td>\n",
       "      <td>77</td>\n",
       "      <td>2</td>\n",
       "      <td>374.500000</td>\n",
       "      <td>0.025974</td>\n",
       "    </tr>\n",
       "    <tr>\n",
       "      <th>879</th>\n",
       "      <td>972412.0</td>\n",
       "      <td>60</td>\n",
       "      <td>2</td>\n",
       "      <td>61</td>\n",
       "      <td>2</td>\n",
       "      <td>210.000000</td>\n",
       "      <td>0.032787</td>\n",
       "    </tr>\n",
       "    <tr>\n",
       "      <th>880</th>\n",
       "      <td>972460.0</td>\n",
       "      <td>50</td>\n",
       "      <td>3</td>\n",
       "      <td>51</td>\n",
       "      <td>3</td>\n",
       "      <td>88.571429</td>\n",
       "      <td>0.058824</td>\n",
       "    </tr>\n",
       "    <tr>\n",
       "      <th>881</th>\n",
       "      <td>973120.0</td>\n",
       "      <td>3</td>\n",
       "      <td>1</td>\n",
       "      <td>3</td>\n",
       "      <td>1</td>\n",
       "      <td>10.000000</td>\n",
       "      <td>0.333333</td>\n",
       "    </tr>\n",
       "  </tbody>\n",
       "</table>\n",
       "<p>882 rows × 7 columns</p>\n",
       "</div>"
      ],
      "text/plain": [
       "     operator_id  total_llamadas_salida  total_llamadas_perdidas  \\\n",
       "0       879896.0                    872                       47   \n",
       "1       879898.0                   7209                       89   \n",
       "2       880020.0                     38                        6   \n",
       "3       880022.0                    189                       29   \n",
       "4       880026.0                   2208                       87   \n",
       "..           ...                    ...                      ...   \n",
       "877     972408.0                      6                        1   \n",
       "878     972410.0                     77                        2   \n",
       "879     972412.0                     60                        2   \n",
       "880     972460.0                     50                        3   \n",
       "881     973120.0                      3                        1   \n",
       "\n",
       "     llamadas_totales  llamadas_perdidas  promedio_tiempo_espera  \\\n",
       "0                 930                 47              104.914530   \n",
       "1                7313                 89              457.696035   \n",
       "2                  45                  6               14.000000   \n",
       "3                 197                 29               53.971429   \n",
       "4                2232                 87              121.978022   \n",
       "..                ...                ...                     ...   \n",
       "877                 6                  1               22.500000   \n",
       "878                77                  2              374.500000   \n",
       "879                61                  2              210.000000   \n",
       "880                51                  3               88.571429   \n",
       "881                 3                  1               10.000000   \n",
       "\n",
       "     rango_llamadas_perdidas  \n",
       "0                   0.050538  \n",
       "1                   0.012170  \n",
       "2                   0.133333  \n",
       "3                   0.147208  \n",
       "4                   0.038978  \n",
       "..                       ...  \n",
       "877                 0.166667  \n",
       "878                 0.025974  \n",
       "879                 0.032787  \n",
       "880                 0.058824  \n",
       "881                 0.333333  \n",
       "\n",
       "[882 rows x 7 columns]"
      ]
     },
     "execution_count": 30,
     "metadata": {},
     "output_type": "execute_result"
    }
   ],
   "source": [
    "#Unir los datas para evaluacion final de los operadores\n",
    "operadores_final= pd.merge(operadores_llam_salida, data_operadores, on='operator_id', how='left')\n",
    "operadores_final"
   ]
  },
  {
   "cell_type": "code",
   "execution_count": 31,
   "metadata": {},
   "outputs": [
    {
     "data": {
      "text/html": [
       "<div>\n",
       "<style scoped>\n",
       "    .dataframe tbody tr th:only-of-type {\n",
       "        vertical-align: middle;\n",
       "    }\n",
       "\n",
       "    .dataframe tbody tr th {\n",
       "        vertical-align: top;\n",
       "    }\n",
       "\n",
       "    .dataframe thead th {\n",
       "        text-align: right;\n",
       "    }\n",
       "</style>\n",
       "<table border=\"1\" class=\"dataframe\">\n",
       "  <thead>\n",
       "    <tr style=\"text-align: right;\">\n",
       "      <th></th>\n",
       "      <th>operator_id</th>\n",
       "      <th>total_llamadas_salida</th>\n",
       "      <th>total_llamadas_perdidas</th>\n",
       "      <th>llamadas_totales</th>\n",
       "      <th>llamadas_perdidas</th>\n",
       "      <th>promedio_tiempo_espera</th>\n",
       "      <th>rango_llamadas_perdidas</th>\n",
       "      <th>%_llamadas_salida</th>\n",
       "    </tr>\n",
       "  </thead>\n",
       "  <tbody>\n",
       "    <tr>\n",
       "      <th>0</th>\n",
       "      <td>879896.0</td>\n",
       "      <td>872</td>\n",
       "      <td>47</td>\n",
       "      <td>930</td>\n",
       "      <td>47</td>\n",
       "      <td>104.914530</td>\n",
       "      <td>0.050538</td>\n",
       "      <td>0.937634</td>\n",
       "    </tr>\n",
       "    <tr>\n",
       "      <th>1</th>\n",
       "      <td>879898.0</td>\n",
       "      <td>7209</td>\n",
       "      <td>89</td>\n",
       "      <td>7313</td>\n",
       "      <td>89</td>\n",
       "      <td>457.696035</td>\n",
       "      <td>0.012170</td>\n",
       "      <td>0.985779</td>\n",
       "    </tr>\n",
       "    <tr>\n",
       "      <th>2</th>\n",
       "      <td>880020.0</td>\n",
       "      <td>38</td>\n",
       "      <td>6</td>\n",
       "      <td>45</td>\n",
       "      <td>6</td>\n",
       "      <td>14.000000</td>\n",
       "      <td>0.133333</td>\n",
       "      <td>0.844444</td>\n",
       "    </tr>\n",
       "    <tr>\n",
       "      <th>3</th>\n",
       "      <td>880022.0</td>\n",
       "      <td>189</td>\n",
       "      <td>29</td>\n",
       "      <td>197</td>\n",
       "      <td>29</td>\n",
       "      <td>53.971429</td>\n",
       "      <td>0.147208</td>\n",
       "      <td>0.959391</td>\n",
       "    </tr>\n",
       "    <tr>\n",
       "      <th>4</th>\n",
       "      <td>880026.0</td>\n",
       "      <td>2208</td>\n",
       "      <td>87</td>\n",
       "      <td>2232</td>\n",
       "      <td>87</td>\n",
       "      <td>121.978022</td>\n",
       "      <td>0.038978</td>\n",
       "      <td>0.989247</td>\n",
       "    </tr>\n",
       "    <tr>\n",
       "      <th>...</th>\n",
       "      <td>...</td>\n",
       "      <td>...</td>\n",
       "      <td>...</td>\n",
       "      <td>...</td>\n",
       "      <td>...</td>\n",
       "      <td>...</td>\n",
       "      <td>...</td>\n",
       "      <td>...</td>\n",
       "    </tr>\n",
       "    <tr>\n",
       "      <th>877</th>\n",
       "      <td>972408.0</td>\n",
       "      <td>6</td>\n",
       "      <td>1</td>\n",
       "      <td>6</td>\n",
       "      <td>1</td>\n",
       "      <td>22.500000</td>\n",
       "      <td>0.166667</td>\n",
       "      <td>1.000000</td>\n",
       "    </tr>\n",
       "    <tr>\n",
       "      <th>878</th>\n",
       "      <td>972410.0</td>\n",
       "      <td>77</td>\n",
       "      <td>2</td>\n",
       "      <td>77</td>\n",
       "      <td>2</td>\n",
       "      <td>374.500000</td>\n",
       "      <td>0.025974</td>\n",
       "      <td>1.000000</td>\n",
       "    </tr>\n",
       "    <tr>\n",
       "      <th>879</th>\n",
       "      <td>972412.0</td>\n",
       "      <td>60</td>\n",
       "      <td>2</td>\n",
       "      <td>61</td>\n",
       "      <td>2</td>\n",
       "      <td>210.000000</td>\n",
       "      <td>0.032787</td>\n",
       "      <td>0.983607</td>\n",
       "    </tr>\n",
       "    <tr>\n",
       "      <th>880</th>\n",
       "      <td>972460.0</td>\n",
       "      <td>50</td>\n",
       "      <td>3</td>\n",
       "      <td>51</td>\n",
       "      <td>3</td>\n",
       "      <td>88.571429</td>\n",
       "      <td>0.058824</td>\n",
       "      <td>0.980392</td>\n",
       "    </tr>\n",
       "    <tr>\n",
       "      <th>881</th>\n",
       "      <td>973120.0</td>\n",
       "      <td>3</td>\n",
       "      <td>1</td>\n",
       "      <td>3</td>\n",
       "      <td>1</td>\n",
       "      <td>10.000000</td>\n",
       "      <td>0.333333</td>\n",
       "      <td>1.000000</td>\n",
       "    </tr>\n",
       "  </tbody>\n",
       "</table>\n",
       "<p>882 rows × 8 columns</p>\n",
       "</div>"
      ],
      "text/plain": [
       "     operator_id  total_llamadas_salida  total_llamadas_perdidas  \\\n",
       "0       879896.0                    872                       47   \n",
       "1       879898.0                   7209                       89   \n",
       "2       880020.0                     38                        6   \n",
       "3       880022.0                    189                       29   \n",
       "4       880026.0                   2208                       87   \n",
       "..           ...                    ...                      ...   \n",
       "877     972408.0                      6                        1   \n",
       "878     972410.0                     77                        2   \n",
       "879     972412.0                     60                        2   \n",
       "880     972460.0                     50                        3   \n",
       "881     973120.0                      3                        1   \n",
       "\n",
       "     llamadas_totales  llamadas_perdidas  promedio_tiempo_espera  \\\n",
       "0                 930                 47              104.914530   \n",
       "1                7313                 89              457.696035   \n",
       "2                  45                  6               14.000000   \n",
       "3                 197                 29               53.971429   \n",
       "4                2232                 87              121.978022   \n",
       "..                ...                ...                     ...   \n",
       "877                 6                  1               22.500000   \n",
       "878                77                  2              374.500000   \n",
       "879                61                  2              210.000000   \n",
       "880                51                  3               88.571429   \n",
       "881                 3                  1               10.000000   \n",
       "\n",
       "     rango_llamadas_perdidas  %_llamadas_salida  \n",
       "0                   0.050538           0.937634  \n",
       "1                   0.012170           0.985779  \n",
       "2                   0.133333           0.844444  \n",
       "3                   0.147208           0.959391  \n",
       "4                   0.038978           0.989247  \n",
       "..                       ...                ...  \n",
       "877                 0.166667           1.000000  \n",
       "878                 0.025974           1.000000  \n",
       "879                 0.032787           0.983607  \n",
       "880                 0.058824           0.980392  \n",
       "881                 0.333333           1.000000  \n",
       "\n",
       "[882 rows x 8 columns]"
      ]
     },
     "execution_count": 31,
     "metadata": {},
     "output_type": "execute_result"
    }
   ],
   "source": [
    "#Nueva columna con el porcentaje de llamadas de salida y el total de llamadas\n",
    "operadores_final['%_llamadas_salida'] = operadores_final['total_llamadas_salida'] / operadores_final['llamadas_totales']\n",
    "operadores_final"
   ]
  },
  {
   "cell_type": "code",
   "execution_count": 32,
   "metadata": {},
   "outputs": [
    {
     "name": "stdout",
     "output_type": "stream",
     "text": [
      "count    882.000000\n",
      "mean       0.795047\n",
      "std        0.273941\n",
      "min        0.001079\n",
      "25%        0.661888\n",
      "50%        0.938453\n",
      "75%        1.000000\n",
      "max        1.000000\n",
      "Name: %_llamadas_salida, dtype: float64\n"
     ]
    }
   ],
   "source": [
    "#describe para concocer los % de llamadas salida para evaluar mejor a los operadores\n",
    "print(operadores_final[\"%_llamadas_salida\"].describe())"
   ]
  },
  {
   "cell_type": "code",
   "execution_count": 33,
   "metadata": {},
   "outputs": [],
   "source": [
    "#Filtrar por un porcentaje mayor a 0.79 (media) para evaluar a los operadores\n",
    "operadores_salidas = operadores_final[operadores_final['%_llamadas_salida'] > 0.79]\n"
   ]
  },
  {
   "cell_type": "code",
   "execution_count": 34,
   "metadata": {},
   "outputs": [
    {
     "data": {
      "text/html": [
       "<div>\n",
       "<style scoped>\n",
       "    .dataframe tbody tr th:only-of-type {\n",
       "        vertical-align: middle;\n",
       "    }\n",
       "\n",
       "    .dataframe tbody tr th {\n",
       "        vertical-align: top;\n",
       "    }\n",
       "\n",
       "    .dataframe thead th {\n",
       "        text-align: right;\n",
       "    }\n",
       "</style>\n",
       "<table border=\"1\" class=\"dataframe\">\n",
       "  <thead>\n",
       "    <tr style=\"text-align: right;\">\n",
       "      <th></th>\n",
       "      <th>operator_id</th>\n",
       "      <th>total_llamadas_salida</th>\n",
       "      <th>total_llamadas_perdidas</th>\n",
       "      <th>llamadas_totales</th>\n",
       "      <th>llamadas_perdidas</th>\n",
       "      <th>promedio_tiempo_espera</th>\n",
       "      <th>rango_llamadas_perdidas</th>\n",
       "      <th>%_llamadas_salida</th>\n",
       "    </tr>\n",
       "  </thead>\n",
       "  <tbody>\n",
       "    <tr>\n",
       "      <th>10</th>\n",
       "      <td>882686.0</td>\n",
       "      <td>2884</td>\n",
       "      <td>78</td>\n",
       "      <td>3650</td>\n",
       "      <td>83</td>\n",
       "      <td>288.763393</td>\n",
       "      <td>0.022740</td>\n",
       "      <td>0.790137</td>\n",
       "    </tr>\n",
       "    <tr>\n",
       "      <th>560</th>\n",
       "      <td>937788.0</td>\n",
       "      <td>472</td>\n",
       "      <td>27</td>\n",
       "      <td>597</td>\n",
       "      <td>27</td>\n",
       "      <td>133.987654</td>\n",
       "      <td>0.045226</td>\n",
       "      <td>0.790620</td>\n",
       "    </tr>\n",
       "    <tr>\n",
       "      <th>581</th>\n",
       "      <td>937988.0</td>\n",
       "      <td>274</td>\n",
       "      <td>23</td>\n",
       "      <td>346</td>\n",
       "      <td>23</td>\n",
       "      <td>132.895522</td>\n",
       "      <td>0.066474</td>\n",
       "      <td>0.791908</td>\n",
       "    </tr>\n",
       "    <tr>\n",
       "      <th>211</th>\n",
       "      <td>905870.0</td>\n",
       "      <td>559</td>\n",
       "      <td>22</td>\n",
       "      <td>702</td>\n",
       "      <td>22</td>\n",
       "      <td>181.364865</td>\n",
       "      <td>0.031339</td>\n",
       "      <td>0.796296</td>\n",
       "    </tr>\n",
       "    <tr>\n",
       "      <th>550</th>\n",
       "      <td>937752.0</td>\n",
       "      <td>1616</td>\n",
       "      <td>31</td>\n",
       "      <td>2028</td>\n",
       "      <td>31</td>\n",
       "      <td>359.438776</td>\n",
       "      <td>0.015286</td>\n",
       "      <td>0.796844</td>\n",
       "    </tr>\n",
       "    <tr>\n",
       "      <th>569</th>\n",
       "      <td>937868.0</td>\n",
       "      <td>250</td>\n",
       "      <td>24</td>\n",
       "      <td>313</td>\n",
       "      <td>25</td>\n",
       "      <td>87.662162</td>\n",
       "      <td>0.079872</td>\n",
       "      <td>0.798722</td>\n",
       "    </tr>\n",
       "    <tr>\n",
       "      <th>278</th>\n",
       "      <td>913474.0</td>\n",
       "      <td>8</td>\n",
       "      <td>1</td>\n",
       "      <td>10</td>\n",
       "      <td>1</td>\n",
       "      <td>51.750000</td>\n",
       "      <td>0.100000</td>\n",
       "      <td>0.800000</td>\n",
       "    </tr>\n",
       "    <tr>\n",
       "      <th>374</th>\n",
       "      <td>919536.0</td>\n",
       "      <td>8</td>\n",
       "      <td>3</td>\n",
       "      <td>10</td>\n",
       "      <td>3</td>\n",
       "      <td>15.000000</td>\n",
       "      <td>0.300000</td>\n",
       "      <td>0.800000</td>\n",
       "    </tr>\n",
       "    <tr>\n",
       "      <th>97</th>\n",
       "      <td>894232.0</td>\n",
       "      <td>16</td>\n",
       "      <td>7</td>\n",
       "      <td>20</td>\n",
       "      <td>8</td>\n",
       "      <td>23.846154</td>\n",
       "      <td>0.400000</td>\n",
       "      <td>0.800000</td>\n",
       "    </tr>\n",
       "    <tr>\n",
       "      <th>559</th>\n",
       "      <td>937786.0</td>\n",
       "      <td>12</td>\n",
       "      <td>2</td>\n",
       "      <td>15</td>\n",
       "      <td>2</td>\n",
       "      <td>37.142857</td>\n",
       "      <td>0.133333</td>\n",
       "      <td>0.800000</td>\n",
       "    </tr>\n",
       "  </tbody>\n",
       "</table>\n",
       "</div>"
      ],
      "text/plain": [
       "     operator_id  total_llamadas_salida  total_llamadas_perdidas  \\\n",
       "10      882686.0                   2884                       78   \n",
       "560     937788.0                    472                       27   \n",
       "581     937988.0                    274                       23   \n",
       "211     905870.0                    559                       22   \n",
       "550     937752.0                   1616                       31   \n",
       "569     937868.0                    250                       24   \n",
       "278     913474.0                      8                        1   \n",
       "374     919536.0                      8                        3   \n",
       "97      894232.0                     16                        7   \n",
       "559     937786.0                     12                        2   \n",
       "\n",
       "     llamadas_totales  llamadas_perdidas  promedio_tiempo_espera  \\\n",
       "10               3650                 83              288.763393   \n",
       "560               597                 27              133.987654   \n",
       "581               346                 23              132.895522   \n",
       "211               702                 22              181.364865   \n",
       "550              2028                 31              359.438776   \n",
       "569               313                 25               87.662162   \n",
       "278                10                  1               51.750000   \n",
       "374                10                  3               15.000000   \n",
       "97                 20                  8               23.846154   \n",
       "559                15                  2               37.142857   \n",
       "\n",
       "     rango_llamadas_perdidas  %_llamadas_salida  \n",
       "10                  0.022740           0.790137  \n",
       "560                 0.045226           0.790620  \n",
       "581                 0.066474           0.791908  \n",
       "211                 0.031339           0.796296  \n",
       "550                 0.015286           0.796844  \n",
       "569                 0.079872           0.798722  \n",
       "278                 0.100000           0.800000  \n",
       "374                 0.300000           0.800000  \n",
       "97                  0.400000           0.800000  \n",
       "559                 0.133333           0.800000  "
      ]
     },
     "execution_count": 34,
     "metadata": {},
     "output_type": "execute_result"
    }
   ],
   "source": [
    "#mostrar a los 10 con peor calificacion por % llamadas de salida\n",
    "operadores_salidas.sort_values(by='%_llamadas_salida').head(10) "
   ]
  },
  {
   "cell_type": "markdown",
   "metadata": {},
   "source": [
    "En esta última tabla podemos observar a los operadores que han tenido un bajo % de llamadas salida, lo que nos indica de estos operadores estan teniendo fallas con sus llamadas.\n",
    "\n",
    "Además podemos observar que algunos operadors también tienen altas tasas de llamadas perdidas, lo que podría indicarnos ya una ineficiencia evidente."
   ]
  },
  {
   "cell_type": "markdown",
   "metadata": {},
   "source": [
    "# Prueba las hipótesis"
   ]
  },
  {
   "cell_type": "markdown",
   "metadata": {},
   "source": [
    "Ya habiendo analiando el trabajo y los números de los operadores, vamos a investigar si estas anomalias entre los usuarios estan creando que su productividad se vea afectada.\n",
    "\n",
    "Para esto realizaremos difernetes pruebas que nos ayuden a estimar si estamos teniendo problemas entre los grupos de operadores dependiendo sus diferentes cifras ya analizadas previamente.\n",
    "\n",
    "### Hipotesis a demostrar: \n",
    "\n",
    "**Hipotesis 1**\n",
    "\n",
    "El tiempo de espera promedio es significatuvamente diferente en los operadores con muchas llamadas perdidas y con aquellos que no tienen tantas llamadas pérdidas \n",
    "\n",
    "**Hipótesis 2**\n",
    "\n",
    "La tasa promedio de llamadas perdidas es significativamente diferente en función de la actividad de llamadas salientes hechas por los operadores "
   ]
  },
  {
   "cell_type": "code",
   "execution_count": 35,
   "metadata": {},
   "outputs": [],
   "source": [
    "# Preparación de los datos para la prueba de hipótesis\n",
    "# División de los operadores en dos grupos: tasa alta de llamadas perdidas (por encima de la mediana) y tasa baja de llamadas perdidas (por debajo o igual a la mediana)\n",
    "media_llamadas_perdidas = data_operadores['rango_llamadas_perdidas'].median()\n",
    "operadores_llamadas_perdidas_altas = data_operadores[data_operadores['rango_llamadas_perdidas'] > media_llamadas_perdidas]\n",
    "operadores_llamadas_perdidas_bajas = data_operadores[data_operadores['rango_llamadas_perdidas'] <= media_llamadas_perdidas]"
   ]
  },
  {
   "cell_type": "code",
   "execution_count": 36,
   "metadata": {},
   "outputs": [],
   "source": [
    "# Prueba de hipótesis 1\n",
    "#separan los operadores por grupos de tiempo de espera alto o bajo.\n",
    "tiempo_espera_alto = operadores_llamadas_perdidas_altas['promedio_tiempo_espera'].dropna()\n",
    "tiempo_espera_bajo = operadores_llamadas_perdidas_bajas['promedio_tiempo_espera'].dropna()"
   ]
  },
  {
   "cell_type": "code",
   "execution_count": 37,
   "metadata": {},
   "outputs": [],
   "source": [
    "#Realizar una prueba t independiente para los tiempos de espera promedio entre los dos grupos\n",
    "t_stat_tiempo_espera, p_val_tiempo_espera = stats.ttest_ind(tiempo_espera_alto, tiempo_espera_bajo, equal_var=False)"
   ]
  },
  {
   "cell_type": "code",
   "execution_count": 38,
   "metadata": {},
   "outputs": [],
   "source": [
    "# Prueba de hipótesis 2\n",
    "#Dividir los datos en dos grupos: porcentaje alto de llamadas salientes y porcentaje bajo de llamadas salientes\n",
    "media_llamadas_salida = operadores_final['%_llamadas_salida'].median()\n",
    "salidas_altas = operadores_final[operadores_final['%_llamadas_salida'] > media_llamadas_salida]\n",
    "salidas_bajas = operadores_final[operadores_final['%_llamadas_salida'] <= media_llamadas_salida]"
   ]
  },
  {
   "cell_type": "code",
   "execution_count": 39,
   "metadata": {},
   "outputs": [],
   "source": [
    "#Se hace de una prueba t independiente para la tasa de llamadas perdidas entre grupos de actividad de llamadas salientes alta y baja\n",
    "salidas_altas = salidas_altas['rango_llamadas_perdidas'].dropna()\n",
    "salidas_bajas = salidas_bajas['rango_llamadas_perdidas'].dropna()"
   ]
  },
  {
   "cell_type": "code",
   "execution_count": 40,
   "metadata": {},
   "outputs": [],
   "source": [
    "# Definir una función para validar los supuestos de las pruebas t: normalidad y varianzas iguales\n",
    "\n",
    "def validar_t_test(grupo1, grupo2):\n",
    "    # Shapiro-Wilk Test\n",
    "    shapiro_grupo1 = stats.shapiro(grupo1)\n",
    "    shapiro_grupo2 = stats.shapiro(grupo2)\n",
    "    \n",
    "    # Levene's Test\n",
    "    levene_test = stats.levene(grupo1, grupo2)\n",
    "    \n",
    "    return {\n",
    "        \"Shapiro_Grupo1\": shapiro_grupo1,\n",
    "        \"Shapiro_Grupo2\": shapiro_grupo2,\n",
    "        \"Levene_Test\": levene_test\n",
    "    }"
   ]
  },
  {
   "cell_type": "code",
   "execution_count": 41,
   "metadata": {},
   "outputs": [],
   "source": [
    "# Aplicación de la función para ambas pruebas:\n",
    "# Hipotesis 1\n",
    "tiempo_espera_hip = validar_t_test(tiempo_espera_alto, tiempo_espera_bajo)\n",
    "\n",
    "#Hipotesis 2\n",
    "llamadas_perdidas_hip = validar_t_test(salidas_altas, salidas_bajas)"
   ]
  },
  {
   "cell_type": "code",
   "execution_count": 42,
   "metadata": {},
   "outputs": [
    {
     "data": {
      "text/plain": [
       "({'Shapiro_Grupo1': ShapiroResult(statistic=0.8214612603187561, pvalue=3.565985768622787e-24),\n",
       "  'Shapiro_Grupo2': ShapiroResult(statistic=0.564888596534729, pvalue=1.1470820554321878e-34),\n",
       "  'Levene_Test': LeveneResult(statistic=137.63821338378528, pvalue=5.1200308314092784e-30)},\n",
       " {'Shapiro_Grupo1': ShapiroResult(statistic=0.6068916916847229, pvalue=1.9703480202833394e-30),\n",
       "  'Shapiro_Grupo2': ShapiroResult(statistic=0.8163653612136841, pvalue=4.582652790093819e-22),\n",
       "  'Levene_Test': LeveneResult(statistic=32.22028061280053, pvalue=1.868604784026537e-08)})"
      ]
     },
     "execution_count": 42,
     "metadata": {},
     "output_type": "execute_result"
    }
   ],
   "source": [
    "# Resultado de las pruebas\n",
    "(tiempo_espera_hip, llamadas_perdidas_hip)"
   ]
  },
  {
   "cell_type": "code",
   "execution_count": 43,
   "metadata": {},
   "outputs": [],
   "source": [
    "# Función para realizar la prueba\n",
    "\n",
    "def prueba_hipotesis(grupo1, grupo2, suposicion):\n",
    "    # Verificar si se cumplen los supuestos de normalidad y varianzas iguales\n",
    "    normalidad_grupo1 = suposicion['Shapiro_Grupo1'].pvalue > 0.05\n",
    "    normalidad_grupo2 = suposicion['Shapiro_Grupo2'].pvalue > 0.05\n",
    "    if normalidad_grupo1 and normalidad_grupo2:\n",
    "        varianzas_iguales = suposicion['Levene_Test'].pvalue > 0.05\n",
    "\n",
    "        if varianzas_iguales:\n",
    "           # Realizar una prueba t independiente con varianzas iguales\n",
    "            resultados_prueba = stats.ttest_ind(grupo1, grupo2, equal_var=True)\n",
    "            tipo_prueba = \"T-Test con Varianzas Iguales\"\n",
    "        else:\n",
    "            # Realizar una prueba t independiente sin asumir varianzas iguales\n",
    "            resultados_prueba = stats.ttest_ind(grupo1, grupo2, equal_var=False)\n",
    "            tipo_prueba = \"T-Test sin Varianzas Iguales\"\n",
    "    else:\n",
    "        # Si se viola la normalidad, realice la prueba U de Mann-Whitney (prueba no paramétrica)\n",
    "        resultados_prueba = stats.mannwhitneyu(grupo1, grupo2, alternative='two-sided')\n",
    "        tipo_prueba = \"Mann-Whitney U Test\"\n",
    "\n",
    "    return resultados_prueba, tipo_prueba"
   ]
  },
  {
   "cell_type": "code",
   "execution_count": 44,
   "metadata": {},
   "outputs": [],
   "source": [
    "# Aplicar prueba\n",
    "# Hipotesis 1 \n",
    "prueba_tiempo_espera = prueba_hipotesis(tiempo_espera_alto,tiempo_espera_bajo, tiempo_espera_hip)\n",
    "\n",
    "# 2. Para la tasa de llamadas perdidas (actividad de llamadas salientes alta vs baja)\n",
    "prueba_llamadas_perdida= prueba_hipotesis(salidas_altas, salidas_bajas, llamadas_perdidas_hip)"
   ]
  },
  {
   "cell_type": "code",
   "execution_count": 45,
   "metadata": {},
   "outputs": [
    {
     "name": "stdout",
     "output_type": "stream",
     "text": [
      "Tiempo de espera\t (MannwhitneyuResult(statistic=87250.5, pvalue=1.8839178246420611e-32), 'Mann-Whitney U Test')\n",
      "LLamadas pérdidas\t (MannwhitneyuResult(statistic=83057.0, pvalue=0.00017711360000827558), 'Mann-Whitney U Test')\n"
     ]
    }
   ],
   "source": [
    "# Visualización del tipo de prueba y los resultados para cada caso\n",
    "print(\"Tiempo de espera\\t\", prueba_tiempo_espera)\n",
    "print(\"LLamadas pérdidas\\t\", prueba_llamadas_perdida)"
   ]
  },
  {
   "cell_type": "markdown",
   "metadata": {},
   "source": [
    "**Hipótesis 1**\n",
    "\n",
    "Para comprobar nuestros hipótesis realicé una prueba t independiente que compara los tiempos de espera promedio entre los dos grupos para conocer si existen una diferencias significativas entre los resultados de ambos grupos que nos ayude a definir la ineficiencia de los operadores.\n",
    "\n",
    "**Resultado:** El valor P salio en 1.8839 lo que es significativamente superior, mostrando una gran dierencia en la eficiencia de ambos grupos siendo evaluados por este parámetro.\n",
    "\n",
    "\n",
    "**Hipótesis 2**\n",
    "\n",
    "Para comprobar nuestros hipótesis realicé una prueba t independiente para conocr si las tasas de llamadas perdidas difieren significativamente entre operadores con alta y baja actividad de llamadas salientes ,entre ambos grupos ayudando a definir si estos parámetros ayudan a medir la ineficiencia de algunos operadores.\n",
    "\n",
    "**Resultado:** El valor P salio en 0.00017 lo que no representa diferencia significativa entre ambos grupos por este párametro, no encontrando un valor que nos ayude a medir la eficiencia entre los grupos de operadores."
   ]
  },
  {
   "cell_type": "markdown",
   "metadata": {},
   "source": [
    "# Conclusiones"
   ]
  },
  {
   "cell_type": "markdown",
   "metadata": {},
   "source": [
    "-\tExisten 8 172 de filas de información que no han podido ser evaluada, esto por la ausencia del id del operador, esto puede afectar nuestras métricas, es importante reportar este dato para próximas tareas, ya que puede deberse a una falla en la captación de información de la empresa.\n",
    "\n",
    "\n",
    "-\tDel data original 4 900 filas están duplicadas, (siendo el 9.09% de data original), nuevamente es importante reportar estas fallas.\n",
    "\n",
    "\n",
    "-\tLa duración promedio de las llamadas es de 866 minutos, teniendo un registro de 144 395 minutos en un usuario.\n",
    "\n",
    "\n",
    "-\tEl tiempo de espera promedio entre los operadores va de 290 minutos, el registro máximo fue e 46 474, siendo un rango normal entre 0 a 1000 minutos entre los operadores.\n",
    "\n",
    "\n",
    "-\tEl conteo de llamadas promedio por operadore es de 16 llamadas.\n",
    "\n",
    "\n",
    "-\tObservamos que >75% de las llamadas por los operadores son externas y el resto son de forma interna.\n",
    "\n",
    "\n",
    "-\tSe agrupó toda la información en relación con las llamadas, conteos, llamadas perdidas totales, relación de llamadas perdidas al total, etc. por operador para así evaluar su eficiencia para la empresa.\n",
    "\n",
    "\n",
    "-\tSe tenemos 2 parámetros a evaluar para comprobar las hipótesis:\n",
    "o\tEl tiempo de espera \n",
    "o\tLa tasa de llamadas pérdidas en relación a la cantidad de llamadas salientes\n",
    "\n",
    "\n",
    "-\tAl comprobar ambas teorías con la ayuda de un t test podemos concluir que el parámetros de tiempo de espera Si ayuda a evaluar la eficiencia de los operadores. Operadores con altos niveles de tiempo de espera NO ESTAN SIENDO EFICIENTES.\n",
    "\n",
    "\n",
    "-\tE n cambio al evaluar la relación de las llamadas perdidas con la cantidad de llamadas NO indico ser un buen parámetro, al no mostrar diferencias significativas.\n",
    "\n",
    "**En conclusión podemos empezar a evaluar a los operadores con mayor tiempo de espera como ineficientes.\n",
    "\n",
    "Se recomienda evaluar la relación de llamadas perdidas totales con el total de llamadas, para saber si estos operadores también están siendo ineficientes y tener parámetros más amplios para criterio de los encargados y hagan tomas de decisión más acertadas y completas con el trabajo de los operadores.**\n"
   ]
  },
  {
   "cell_type": "markdown",
   "metadata": {},
   "source": [
    "# Bibliografia "
   ]
  },
  {
   "cell_type": "markdown",
   "metadata": {},
   "source": [
    "- Prueba T vs prueba Z. (2025, 16 enero). Datacamp. Recuperado 24 de febrero de 2025, de https://www.datacamp.com/es/tutorial/t-test-vs-z-test\n",
    "\n",
    "Leer sobre la pueba Z y T, me ayudó a utilizar la prueba correcta según los datos que tenía y aquello que debía investigar con la prueba.\n",
    "\n",
    "- Prueba U de Mann-Whitney: Qué es y cómo funciona. Marytere Narvaez. QuestionPro. Recuperado 24 de febrero de 2025, de https://www.questionpro.com/blog/es/prueba-u-de-mann-whitney/\n",
    "\n",
    "Este artíiculo me ayudó a repasar sobre la funcionalidad de la prueba y como interpretar los resultados para su uso, logrando la interpretación correcta de la prueba en mis datos.\n",
    "\n",
    "- Diagrama de sectores (pie chart) en matplotlib. Python Charts. Recuperado 24 de febrero de 2025, de https://python-charts.com/es/parte-todo/pie-chart-matplotlib/\n",
    "\n",
    "Leer los códigos para crear una gráfica de pie me ayudó a desarrollar la forma correcta de la gráfica solicitada y visualizar la información deseada de nuestros datas.\n",
    "\n",
    "- Prueba de Levene.Data Tab. Recuperado 24 de febrero de 2025, de https://datatab.es/tutorial/levene-test\n",
    "\n",
    "Este artíiculo me ayudó a repasar sobre la funcionalidad de la prueba y como interpretar los resultados para su uso, ayudandome a verificar su uso en nuestro análisis.\n",
    "\n",
    "- pandas.DataFrame.merge.  Pandas. Recuperado 24 de febrero de 2025, de https://pandas.pydata.org/docs/reference/api/pandas.DataFrame.merge.html\n",
    "\n",
    "Leer la información sobre MERGE me ayudo a desarollar de forma correcta la unión de las tablas deseadas para tener toda la informaicón necesaria de los operadores para su evaluación de eficiencia."
   ]
  },
  {
   "cell_type": "code",
   "execution_count": null,
   "metadata": {},
   "outputs": [],
   "source": []
  }
 ],
 "metadata": {
  "ExecuteTimeLog": [
   {
    "duration": 2552,
    "start_time": "2025-02-24T16:05:54.554Z"
   },
   {
    "duration": 66,
    "start_time": "2025-02-24T16:05:57.108Z"
   },
   {
    "duration": 14,
    "start_time": "2025-02-24T16:05:57.175Z"
   },
   {
    "duration": 10,
    "start_time": "2025-02-24T16:05:57.191Z"
   },
   {
    "duration": 11,
    "start_time": "2025-02-24T16:05:57.202Z"
   },
   {
    "duration": 8,
    "start_time": "2025-02-24T16:05:57.215Z"
   },
   {
    "duration": 6,
    "start_time": "2025-02-24T16:05:57.224Z"
   },
   {
    "duration": 9,
    "start_time": "2025-02-24T16:05:57.232Z"
   },
   {
    "duration": 14,
    "start_time": "2025-02-24T16:05:57.242Z"
   },
   {
    "duration": 15,
    "start_time": "2025-02-24T16:05:57.259Z"
   },
   {
    "duration": 39,
    "start_time": "2025-02-24T16:05:57.275Z"
   },
   {
    "duration": 9,
    "start_time": "2025-02-24T16:05:57.315Z"
   },
   {
    "duration": 4,
    "start_time": "2025-02-24T16:05:57.325Z"
   },
   {
    "duration": 4,
    "start_time": "2025-02-24T16:05:57.331Z"
   },
   {
    "duration": 5,
    "start_time": "2025-02-24T16:05:57.336Z"
   },
   {
    "duration": 9,
    "start_time": "2025-02-24T16:05:57.342Z"
   },
   {
    "duration": 5,
    "start_time": "2025-02-24T16:05:57.353Z"
   },
   {
    "duration": 154,
    "start_time": "2025-02-24T16:05:57.360Z"
   },
   {
    "duration": 4,
    "start_time": "2025-02-24T16:05:57.516Z"
   },
   {
    "duration": 7,
    "start_time": "2025-02-24T16:05:57.522Z"
   },
   {
    "duration": 116,
    "start_time": "2025-02-24T16:05:57.530Z"
   },
   {
    "duration": 6,
    "start_time": "2025-02-24T16:05:57.648Z"
   },
   {
    "duration": 104,
    "start_time": "2025-02-24T16:05:57.656Z"
   },
   {
    "duration": 770,
    "start_time": "2025-02-24T16:05:57.763Z"
   },
   {
    "duration": 3,
    "start_time": "2025-02-24T16:05:58.535Z"
   },
   {
    "duration": 9,
    "start_time": "2025-02-24T16:05:58.540Z"
   },
   {
    "duration": 6,
    "start_time": "2025-02-24T16:05:58.551Z"
   },
   {
    "duration": 11,
    "start_time": "2025-02-24T16:05:58.562Z"
   },
   {
    "duration": 47,
    "start_time": "2025-02-24T16:05:58.575Z"
   },
   {
    "duration": 10,
    "start_time": "2025-02-24T16:05:58.624Z"
   },
   {
    "duration": 12,
    "start_time": "2025-02-24T16:05:58.637Z"
   },
   {
    "duration": 12,
    "start_time": "2025-02-24T16:05:58.650Z"
   },
   {
    "duration": 5,
    "start_time": "2025-02-24T16:05:58.663Z"
   },
   {
    "duration": 3,
    "start_time": "2025-02-24T16:05:58.670Z"
   },
   {
    "duration": 10,
    "start_time": "2025-02-24T16:05:58.706Z"
   },
   {
    "duration": 4,
    "start_time": "2025-02-24T16:05:58.717Z"
   },
   {
    "duration": 4,
    "start_time": "2025-02-24T16:05:58.723Z"
   },
   {
    "duration": 4,
    "start_time": "2025-02-24T16:05:58.728Z"
   },
   {
    "duration": 5,
    "start_time": "2025-02-24T16:05:58.733Z"
   },
   {
    "duration": 5,
    "start_time": "2025-02-24T16:05:58.740Z"
   },
   {
    "duration": 4,
    "start_time": "2025-02-24T16:05:58.746Z"
   },
   {
    "duration": 4,
    "start_time": "2025-02-24T16:05:58.752Z"
   },
   {
    "duration": 4,
    "start_time": "2025-02-24T16:05:58.758Z"
   },
   {
    "duration": 44,
    "start_time": "2025-02-24T16:05:58.763Z"
   },
   {
    "duration": 282,
    "start_time": "2025-02-24T16:05:58.809Z"
   },
   {
    "duration": 4,
    "start_time": "2025-02-24T16:14:25.917Z"
   },
   {
    "duration": 13,
    "start_time": "2025-02-24T16:22:17.965Z"
   },
   {
    "duration": 22,
    "start_time": "2025-02-24T16:23:50.480Z"
   },
   {
    "duration": 13,
    "start_time": "2025-02-24T16:25:01.597Z"
   },
   {
    "duration": 15,
    "start_time": "2025-02-24T16:25:22.869Z"
   },
   {
    "duration": 15,
    "start_time": "2025-02-24T16:30:23.706Z"
   },
   {
    "duration": 16,
    "start_time": "2025-02-24T16:32:00.760Z"
   },
   {
    "duration": 15,
    "start_time": "2025-02-24T16:33:35.655Z"
   },
   {
    "duration": 5,
    "start_time": "2025-02-24T16:36:28.800Z"
   },
   {
    "duration": 3,
    "start_time": "2025-02-24T16:37:05.396Z"
   },
   {
    "duration": 3,
    "start_time": "2025-02-24T16:38:09.223Z"
   },
   {
    "duration": 98,
    "start_time": "2025-02-24T16:56:57.182Z"
   },
   {
    "duration": 96,
    "start_time": "2025-02-24T16:57:05.779Z"
   },
   {
    "duration": 2639,
    "start_time": "2025-02-24T21:26:06.295Z"
   },
   {
    "duration": 63,
    "start_time": "2025-02-24T21:26:08.936Z"
   },
   {
    "duration": 15,
    "start_time": "2025-02-24T21:26:09.000Z"
   },
   {
    "duration": 12,
    "start_time": "2025-02-24T21:26:09.016Z"
   },
   {
    "duration": 8,
    "start_time": "2025-02-24T21:26:09.031Z"
   },
   {
    "duration": 8,
    "start_time": "2025-02-24T21:26:09.040Z"
   },
   {
    "duration": 23,
    "start_time": "2025-02-24T21:26:09.049Z"
   },
   {
    "duration": 10,
    "start_time": "2025-02-24T21:26:09.073Z"
   },
   {
    "duration": 14,
    "start_time": "2025-02-24T21:26:09.085Z"
   },
   {
    "duration": 14,
    "start_time": "2025-02-24T21:26:09.101Z"
   },
   {
    "duration": 15,
    "start_time": "2025-02-24T21:26:09.116Z"
   },
   {
    "duration": 39,
    "start_time": "2025-02-24T21:26:09.132Z"
   },
   {
    "duration": 4,
    "start_time": "2025-02-24T21:26:09.173Z"
   },
   {
    "duration": 3,
    "start_time": "2025-02-24T21:26:09.182Z"
   },
   {
    "duration": 4,
    "start_time": "2025-02-24T21:26:09.187Z"
   },
   {
    "duration": 8,
    "start_time": "2025-02-24T21:26:09.193Z"
   },
   {
    "duration": 7,
    "start_time": "2025-02-24T21:26:09.203Z"
   },
   {
    "duration": 160,
    "start_time": "2025-02-24T21:26:09.211Z"
   },
   {
    "duration": 5,
    "start_time": "2025-02-24T21:26:09.373Z"
   },
   {
    "duration": 6,
    "start_time": "2025-02-24T21:26:09.380Z"
   },
   {
    "duration": 118,
    "start_time": "2025-02-24T21:26:09.387Z"
   },
   {
    "duration": 6,
    "start_time": "2025-02-24T21:26:09.506Z"
   },
   {
    "duration": 110,
    "start_time": "2025-02-24T21:26:09.514Z"
   },
   {
    "duration": 803,
    "start_time": "2025-02-24T21:26:09.626Z"
   },
   {
    "duration": 3,
    "start_time": "2025-02-24T21:26:10.430Z"
   },
   {
    "duration": 9,
    "start_time": "2025-02-24T21:26:10.435Z"
   },
   {
    "duration": 6,
    "start_time": "2025-02-24T21:26:10.446Z"
   },
   {
    "duration": 27,
    "start_time": "2025-02-24T21:26:10.453Z"
   },
   {
    "duration": 16,
    "start_time": "2025-02-24T21:26:10.481Z"
   },
   {
    "duration": 10,
    "start_time": "2025-02-24T21:26:10.498Z"
   },
   {
    "duration": 12,
    "start_time": "2025-02-24T21:26:10.510Z"
   },
   {
    "duration": 47,
    "start_time": "2025-02-24T21:26:10.524Z"
   },
   {
    "duration": 11,
    "start_time": "2025-02-24T21:26:10.573Z"
   },
   {
    "duration": 16,
    "start_time": "2025-02-24T21:26:10.586Z"
   },
   {
    "duration": 9,
    "start_time": "2025-02-24T21:26:10.605Z"
   },
   {
    "duration": 5,
    "start_time": "2025-02-24T21:26:10.615Z"
   },
   {
    "duration": 3,
    "start_time": "2025-02-24T21:26:10.622Z"
   },
   {
    "duration": 3,
    "start_time": "2025-02-24T21:26:10.628Z"
   },
   {
    "duration": 5,
    "start_time": "2025-02-24T21:26:10.632Z"
   },
   {
    "duration": 4,
    "start_time": "2025-02-24T21:26:10.639Z"
   },
   {
    "duration": 3,
    "start_time": "2025-02-24T21:26:10.647Z"
   },
   {
    "duration": 24,
    "start_time": "2025-02-24T21:26:10.651Z"
   },
   {
    "duration": 4,
    "start_time": "2025-02-24T21:26:10.677Z"
   },
   {
    "duration": 4,
    "start_time": "2025-02-24T21:26:10.682Z"
   },
   {
    "duration": 7,
    "start_time": "2025-02-24T21:26:10.688Z"
   },
   {
    "duration": 3,
    "start_time": "2025-02-24T21:26:10.697Z"
   },
   {
    "duration": 99,
    "start_time": "2025-02-24T22:01:10.959Z"
   },
   {
    "duration": 2524,
    "start_time": "2025-02-25T17:33:14.708Z"
   },
   {
    "duration": 76,
    "start_time": "2025-02-25T17:33:17.235Z"
   },
   {
    "duration": 14,
    "start_time": "2025-02-25T17:33:17.312Z"
   },
   {
    "duration": 10,
    "start_time": "2025-02-25T17:33:17.328Z"
   },
   {
    "duration": 8,
    "start_time": "2025-02-25T17:33:17.340Z"
   },
   {
    "duration": 6,
    "start_time": "2025-02-25T17:33:17.351Z"
   },
   {
    "duration": 8,
    "start_time": "2025-02-25T17:33:17.359Z"
   },
   {
    "duration": 15,
    "start_time": "2025-02-25T17:33:17.369Z"
   },
   {
    "duration": 44,
    "start_time": "2025-02-25T17:33:17.385Z"
   },
   {
    "duration": 13,
    "start_time": "2025-02-25T17:33:17.433Z"
   },
   {
    "duration": 8,
    "start_time": "2025-02-25T17:33:17.448Z"
   },
   {
    "duration": 4,
    "start_time": "2025-02-25T17:33:17.458Z"
   },
   {
    "duration": 4,
    "start_time": "2025-02-25T17:33:17.464Z"
   },
   {
    "duration": 4,
    "start_time": "2025-02-25T17:33:17.469Z"
   },
   {
    "duration": 8,
    "start_time": "2025-02-25T17:33:17.475Z"
   },
   {
    "duration": 39,
    "start_time": "2025-02-25T17:33:17.485Z"
   },
   {
    "duration": 128,
    "start_time": "2025-02-25T17:33:17.526Z"
   },
   {
    "duration": 4,
    "start_time": "2025-02-25T17:33:17.656Z"
   },
   {
    "duration": 6,
    "start_time": "2025-02-25T17:33:17.662Z"
   },
   {
    "duration": 126,
    "start_time": "2025-02-25T17:33:17.669Z"
   },
   {
    "duration": 6,
    "start_time": "2025-02-25T17:33:17.796Z"
   },
   {
    "duration": 113,
    "start_time": "2025-02-25T17:33:17.803Z"
   },
   {
    "duration": 814,
    "start_time": "2025-02-25T17:33:17.919Z"
   },
   {
    "duration": 4,
    "start_time": "2025-02-25T17:33:18.735Z"
   },
   {
    "duration": 9,
    "start_time": "2025-02-25T17:33:18.741Z"
   },
   {
    "duration": 6,
    "start_time": "2025-02-25T17:33:18.751Z"
   },
   {
    "duration": 10,
    "start_time": "2025-02-25T17:33:18.759Z"
   },
   {
    "duration": 16,
    "start_time": "2025-02-25T17:33:18.773Z"
   },
   {
    "duration": 41,
    "start_time": "2025-02-25T17:33:18.791Z"
   },
   {
    "duration": 13,
    "start_time": "2025-02-25T17:33:18.833Z"
   },
   {
    "duration": 14,
    "start_time": "2025-02-25T17:33:18.847Z"
   },
   {
    "duration": 5,
    "start_time": "2025-02-25T17:33:18.862Z"
   },
   {
    "duration": 3,
    "start_time": "2025-02-25T17:33:18.869Z"
   },
   {
    "duration": 9,
    "start_time": "2025-02-25T17:33:18.873Z"
   },
   {
    "duration": 40,
    "start_time": "2025-02-25T17:33:18.885Z"
   },
   {
    "duration": 4,
    "start_time": "2025-02-25T17:33:18.927Z"
   },
   {
    "duration": 3,
    "start_time": "2025-02-25T17:33:18.932Z"
   },
   {
    "duration": 4,
    "start_time": "2025-02-25T17:33:18.937Z"
   },
   {
    "duration": 4,
    "start_time": "2025-02-25T17:33:18.942Z"
   },
   {
    "duration": 3,
    "start_time": "2025-02-25T17:33:18.948Z"
   },
   {
    "duration": 5,
    "start_time": "2025-02-25T17:33:18.952Z"
   },
   {
    "duration": 4,
    "start_time": "2025-02-25T17:33:18.959Z"
   },
   {
    "duration": 4,
    "start_time": "2025-02-25T17:33:18.965Z"
   },
   {
    "duration": 6,
    "start_time": "2025-02-25T17:33:18.971Z"
   },
   {
    "duration": 3,
    "start_time": "2025-02-25T17:33:18.979Z"
   }
  ],
  "kernelspec": {
   "display_name": "Python 3 (ipykernel)",
   "language": "python",
   "name": "python3"
  },
  "language_info": {
   "codemirror_mode": {
    "name": "ipython",
    "version": 3
   },
   "file_extension": ".py",
   "mimetype": "text/x-python",
   "name": "python",
   "nbconvert_exporter": "python",
   "pygments_lexer": "ipython3",
   "version": "3.9.19"
  },
  "toc": {
   "base_numbering": 1,
   "nav_menu": {},
   "number_sections": true,
   "sideBar": true,
   "skip_h1_title": true,
   "title_cell": "Table of Contents",
   "title_sidebar": "Contents",
   "toc_cell": false,
   "toc_position": {},
   "toc_section_display": true,
   "toc_window_display": false
  }
 },
 "nbformat": 4,
 "nbformat_minor": 2
}
